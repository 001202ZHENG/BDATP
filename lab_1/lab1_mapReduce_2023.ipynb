{
  "cells": [
    {
      "cell_type": "markdown",
      "metadata": {
        "ein.tags": [
          "worksheet-0"
        ],
        "id": "eOeG1er1Sjum"
      },
      "source": [
        "<h6><center>Big Data Algorithms Techniques & Platforms</center></h6>\n",
        "\n",
        "<h1>\n",
        "<hr style=\" border:none; height:3px;\">\n",
        "<center>Lab Assignment 1: Introduction to MapReduce</center>\n",
        "<hr style=\" border:none; height:3px;\">\n",
        "</h1>\n",
        "\n",
        "\n",
        "# First Part : Introduction - The MapReduce programming model\n",
        "\n",
        "\n",
        "MapReduce is a programming model useful in for big data processing and allows running a parallel and distributed  algorithm on a cluster. \n",
        "\n",
        "A MapReduce algorithm following the MapReduce programming model is composed of:\n",
        "<ul>\n",
        "    <li> a <strong> map </strong>function, which performs a first set of operations on the input data and, usually, produces a set of <strong>key-value</strong> pairs as output;  </li>\n",
        "    <li> a <strong>reduce</strong> function, which performs an operation on data usually coming as output from the <strong> map </strong> function somehow grouped on the basis of the key.</li>\n",
        "</ul>\n",
        "\n",
        "<hr>\n",
        "\n",
        "The MapReduce algorithm can be run on a framework (i.e. Hadoop). In this case the framework will handle the process of\n",
        "running the algorithm on the distributed architecture executing the various tasks in parallel, managing all communications and data transfers between the various parts of the system, and providing for redundancy and fault tolerance. The <code>map()</code> function and the <code>reduce()</code> function will then become <strong>independent procedures</strong> running in multiple instances in parallel.\n",
        "\n",
        "The map and the reduce procedures can be seen then as two main functions: <code>map()</code> et <code>reduce()</code>.\n",
        "\n",
        "### The Map function - how to code it\n",
        "\n",
        "In general the <code>map()</code> function is seen as a function that:\n",
        "<ul>\n",
        "    <li> takes as input one (or a series, set, etc.) key-value pair(s);  </li>\n",
        "    <li> processes each key-value pair according to the procedure it implements;</li>\n",
        "    <li> generates as output zero, one or more key-value pairs.</li>\n",
        "</ul>\n",
        "\n",
        "It is important to notice that:\n",
        "<ul>\n",
        "    <li> if the input data is composed by single values each single value can be seen as a key-value pair having an empty value;  </li>\n",
        "    <li> the types of the input key-value pair and the output key-value pair(s) can be (and often are) different from each other;</li>\n",
        "    <li> the output key-value pair (or key-value pairs) can have a dummy key;</li>\n",
        "    <li> also the output key-value pair can have an empty/dummy value.</li>\n",
        "</ul>\n",
        "\n",
        "<hr>\n",
        "\n",
        "In the example shown in the slides the application is counting the number of occurrences of each word in the provided file. The map function would take as input a single line. This single line can be seen as a key-value pair having as key the whole line and as value an empty value. The map function will break the line into words and output a key-value pair for each word. The key will be the string representing the word and the value will be the integer 1.\n",
        "\n",
        "\n",
        "### The Shuffle function - how to code it\n",
        "Between the <code>map()</code> and <code>reduce()</code> functions, the data are shuffled in order to move together data sharing the same key.\n",
        "Data will be then processed by the <code>reduce()</code> function.\n",
        "When you run a MapReduce procedure on a framework the shuffle operation is fully and transparently handled by the framework. This means that the coding of this function can be skipped.\n",
        "\n",
        "<hr>\n",
        "\n",
        "In the example the shuffle operation is going to put together the key-value pairs sharing the same key, then all the key-value pairs that share the same word.\n",
        "\n",
        "\n",
        "### The Reduce function - how to code it\n",
        "The <code>reduce()</code> function applies a procedure on all the pairs that share the same key.  \n",
        "\n",
        "It is important to notice that:\n",
        "<ul>\n",
        "    <li> the reduce function produces zero or more outputs for each <strong>group</strong> of key-value pairs  </li>\n",
        "    <li> the type of the output can be different from the input and can be also one or a set of key-value pair(s);</li>\n",
        "    <li> even in this case the key-value pair can have an empty/dummy value.</li>\n",
        "</ul>\n",
        "\n",
        "<hr>\n",
        "\n",
        "In the word count example, the reduce function takes the input values, sums them, and generates a single output containing a set of key-value pairs having as key the value of each word and as value the final sum.\n",
        "\n",
        "Notice that the global result is composed of all the counts made by the different reduce instances. We can think a set of different reduce instances that are processing in parallel data. The last step will group the partial result and will give the final count.\n",
        "\n",
        "\n",
        "\n"
      ]
    },
    {
      "cell_type": "code",
      "execution_count": null,
      "metadata": {},
      "outputs": [
        {
          "ename": "SyntaxError",
          "evalue": "invalid syntax (446586853.py, line 5)",
          "output_type": "error",
          "traceback": [
            "\u001b[0;36m  Cell \u001b[0;32mIn [1], line 5\u001b[0;36m\u001b[0m\n\u001b[0;31m    在 Map 阶段，输入数据被映射到中间键值对，并根据键分组。在示例中，相同键的值被放在一起，形成中间数据。\u001b[0m\n\u001b[0m      ^\u001b[0m\n\u001b[0;31mSyntaxError\u001b[0m\u001b[0;31m:\u001b[0m invalid syntax\n"
          ]
        }
      ],
      "source": [
        "#MapReduce 是一种用于并行和分布式计算的编程模型，通常用于处理大规模数据集。Python 提供了多种方式来实现 MapReduce 任务，以下是一种基本的示例：\n",
        "#在上述示例中，MapReduce 过程包括两个阶段：Map 阶段和 Reduce 阶段。\n",
        "#在 Map 阶段，输入数据被映射到中间键值对，并根据键分组。在示例中，相同键的值被放在一起，形成中间数据。\n",
        "#在 Reduce 阶段，对每个键的值列表执行归约操作。这里的归约操作是简单的求和。最终结果是包含归约后键值对的列表。\n",
        "#请注意，上述示例是一个单机版本的 MapReduce，适用于小规模数据集。\n",
        "# 在大规模数据集上，通常会使用分布式计算框架，如Hadoop或Apache Spark，来执行更复杂的MapReduce任务。这些框架可以将任务分发到多台计算机上，以处理大规模数据。\n",
        "\n",
        "from collections import defaultdict\n",
        "\n",
        "# 示例输入数据，包含键值对\n",
        "data = [\n",
        "    (\"apple\", 1),\n",
        "    (\"banana\", 2),\n",
        "    (\"apple\", 3),\n",
        "    (\"banana\", 4),\n",
        "    (\"cherry\", 5)\n",
        "]\n",
        "\n",
        "# Map 阶段\n",
        "def mapper(data):\n",
        "    # 创建一个字典用于存储中间键值对\n",
        "    intermediate_data = defaultdict(list)\n",
        "    \n",
        "    for key, value in data:\n",
        "        # 对每个键值对执行映射操作，将结果存储在字典中\n",
        "        intermediate_data[key].append(value)\n",
        "    \n",
        "    return intermediate_data\n",
        "\n",
        "# Reduce 阶段\n",
        "def reducer(intermediate_data):\n",
        "    result = []\n",
        "    \n",
        "    for key, values in intermediate_data.items():\n",
        "        # 对每个键的值列表执行归约操作，这里简单求和\n",
        "        total = sum(values)\n",
        "        result.append((key, total))\n",
        "    \n",
        "    return result\n",
        "\n",
        "# 执行 Map 阶段\n",
        "intermediate_result = mapper(data)\n",
        "\n",
        "# 执行 Reduce 阶段\n",
        "final_result = reducer(intermediate_result)\n",
        "\n",
        "# 打印最终结果\n",
        "print(final_result)\n"
      ]
    },
    {
      "cell_type": "markdown",
      "metadata": {
        "id": "U0PufSejrRa2"
      },
      "source": [
        "# <strong>Example</strong>\n",
        "### Counting global number of integers\n",
        "\n",
        "\n",
        "As first step you have as input some integers that are stored in multiple lists.\n",
        "\n",
        "Suppose that you have as input these lists:\n",
        "\n",
        "<code>\n",
        "a = [1, 2, 4.3, 3] <br>\n",
        "b = [4, 5, 1.2, 6, 7] <br>\n",
        "c = [8, 9, 5.2, 1, 2, 3] <br>\n",
        "</code>\n",
        "\n",
        "A possible solution can run two steps:\n",
        "\n",
        "<ul>\n",
        "    <li> a <code>map()</code> function that verifies if a number is an integer and *gives* as output a key-value pair for each integer in each list; </li>\n",
        "<code>\n",
        "(_,1), (_,1), (_,1) <br>\n",
        "(_,1), (_,1), (_,1), (_,1) <br>\n",
        "(_,1), (_,1), (_,1), (_,1), (_,1) <br>\n",
        "</code>\n",
        "with the dummy key \"_\".\n",
        "    <li> a <code>reduce()</code> function that adds the partial results coming from the map (using the dummy key) and returns 12.</li>\n",
        "</ul>\n",
        "\n",
        "### Improved counting global number of integers\n",
        "\n",
        "A possible solution can run two steps:\n",
        "\n",
        "<ul>\n",
        "    <li> a <code>map()</code> function that verifies if a number is an integer and *gives* as output the number of integer elements in each list; </li>\n",
        "<code>\n",
        "(_,3) <br>\n",
        "(_,4) <br>\n",
        "(_,5) <br>\n",
        "</code>\n",
        "with the dummy key \"_\".\n",
        "    <li> a <code>reduce()</code> function that adds the partial results coming from the map (using the dummy key) and returns 12.</li>\n",
        "</ul>\n",
        "\n",
        "Notice that in this case the map function is checking and counting for each list.\n",
        "\n",
        "\n"
      ]
    },
    {
      "cell_type": "markdown",
      "metadata": {
        "id": "NXzeI3L-vrJk"
      },
      "source": [
        "#Exercises\n",
        "\n",
        "In this first series of exercises we will learn how to write programs according to the MapReduce paradigm.\n",
        "\n",
        "##Important\n",
        "For this lab <strong> do not use </strong> the native functions <code>map()</code> and <code> reduce()</code> of Python."
      ]
    },
    {
      "cell_type": "markdown",
      "metadata": {
        "id": "KTePkMCiSjun"
      },
      "source": [
        "## <strong> Exercise 1 </strong>\n",
        "### Counting even and odd numbers\n",
        "\n",
        "\n",
        "\n",
        "\n",
        "\n",
        "<p align=\"justify\">\n",
        "<font size=\"3\">\n",
        "Suppose that we have a file that contains multiple lines of integers. We must find how many even and how many odd numbers are present in the file.\n",
        "\n",
        "We can implement a MapReduce procedure.\n",
        "\n",
        "\n",
        "<ol>\n",
        "    <li> Define a map function that for each odd number produces a key-value pair <code>(o,1)</code> and for each even number produces <code>(e,1)</code>.</li>\n",
        "    <li> Define a reduce function that adds the values. </li>\n",
        "  </ol>\n",
        "</font>\n",
        "</p>\n",
        "\n",
        "\n",
        "\n",
        "### Step 1 - <code>map()</code>\n",
        "\n",
        "\n",
        "<p align=\"justify\">\n",
        "<font size=\"3\">\n",
        "We can encode each line of the document as a list of integers.\n",
        "The map function will then take as input this list of integers and we are going to define a Python function that generates, given a list of integer, a pair <code>(o,1)</code> for each odd number and a pair <code>(e,1)</code> for each even number.  \n",
        "\n",
        "Suppose that the file contains the following lines:\n",
        "<font size=\"4\">\n",
        "```\n",
        "1 2 3 3\n",
        "\n",
        "3 4 4\n",
        "\n",
        "5 6 7\n",
        "\n",
        "9 8 7 4\n",
        "```\n",
        "</font>\n",
        "In this example for the first line we will have\n",
        "\n",
        "<code>(o,1), (e,1), (o,1), (o,1)</code>\n",
        "\n",
        "For the second line:\n",
        "\n",
        "<code>(o,1), (e,1), (e,1)</code>\n",
        "\n",
        "etc.\n",
        "\n",
        "In order to read the line you can use the function <code>array_reader</code> that takes as input a file name and reads the file:\n",
        "\n",
        "</font>\n",
        "</p>\n",
        "\n",
        "\n"
      ]
    },
    {
      "cell_type": "code",
      "execution_count": 2,
      "metadata": {
        "id": "CiNbPu4uhOlu"
      },
      "outputs": [
        {
          "name": "stdout",
          "output_type": "stream",
          "text": [
            "Archive:  files_td1.zip\n",
            "replace files_td1/numbers.txt? [y]es, [n]o, [A]ll, [N]one, [r]ename: ^C\n"
          ]
        }
      ],
      "source": [
        "!unzip files_td1.zip\n"
      ]
    },
    {
      "cell_type": "code",
      "execution_count": 4,
      "metadata": {
        "id": "EBoKOEIpAuZK"
      },
      "outputs": [],
      "source": [
        "# This is an array_reader function\n",
        "# input: the finename to be read\n",
        "# output: a list containing a list of numbers for each line\n",
        "def array_reader(filename):\n",
        "    numbers = [line.strip() for line in open(filename)]\n",
        "    newnumbers = []\n",
        "    for ln in numbers :\n",
        "        newnumbers.append([int(i) for i in ln.split(\" \")])\n",
        "    return (newnumbers)"
      ]
    },
    {
      "cell_type": "code",
      "execution_count": 5,
      "metadata": {
        "id": "trRDY4haSjuo"
      },
      "outputs": [
        {
          "name": "stdout",
          "output_type": "stream",
          "text": [
            "[[1, 2, 3, 3], [3, 4, 4], [5, 6, 7], [9, 8, 7, 4]]\n",
            "<class 'list'>\n",
            "[('o', 1), ('e', 1), ('o', 1), ('o', 1), ('o', 1), ('e', 1), ('e', 1), ('o', 1), ('e', 1), ('o', 1), ('o', 1), ('e', 1), ('o', 1), ('e', 1)]\n"
          ]
        }
      ],
      "source": [
        "# Provide here few comment lines that describe your map function\n",
        "\n",
        "def map_odd_even_sol(array):\n",
        "    pairs = []\n",
        "    for i in range(len(array)):\n",
        "        for j in range(len(array[i])):\n",
        "            value = array[i][j]\n",
        "            if value % 2 == 0:\n",
        "                pairs.append (('e',1))\n",
        "            else:\n",
        "                pairs.append (('o',1))\n",
        "    return (pairs)\n",
        "\n",
        "array_numbers = array_reader(\"numbers.txt\")\n",
        "print(array_numbers)\n",
        "print(type(array_numbers))\n",
        "res_1 = map_odd_even_sol(array_numbers)\n",
        "print(res_1)"
      ]
    },
    {
      "cell_type": "markdown",
      "metadata": {
        "id": "jFrNBM1PSjus"
      },
      "source": [
        "How can we improve our function?"
      ]
    },
    {
      "cell_type": "code",
      "execution_count": 6,
      "metadata": {
        "id": "finq5FnBSjus"
      },
      "outputs": [
        {
          "name": "stdout",
          "output_type": "stream",
          "text": [
            "[[('o', 1), ('e', 1), ('o', 1), ('o', 1)], [('o', 1), ('e', 1), ('e', 1)], [('o', 1), ('e', 1), ('o', 1)], [('o', 1), ('e', 1), ('o', 1), ('e', 1)]]\n"
          ]
        }
      ],
      "source": [
        "# Provide here few comment lines that describe your map function\n",
        "\n",
        "def map_odd_even_simple_sol(array):\n",
        "    res = []\n",
        "    for l in array:\n",
        "        res.append([(\"e\",1) if num%2==0 else (\"o\",1) for num in l])\n",
        "\n",
        "    return res\n",
        "    \n",
        "\n",
        "array_numbers = array_reader(\"numbers.txt\")\n",
        "res = map_odd_even_simple_sol(array_numbers)\n",
        "print(res)"
      ]
    },
    {
      "cell_type": "markdown",
      "metadata": {
        "id": "iqa7Q8TASjuu"
      },
      "source": [
        "### Step 2 - <code>shuffle()</code>\n",
        "\n",
        "<p align=\"justify\">\n",
        "<font size=\"3\">\n",
        "Here we are going to define a functions that groups the pairs according to the values of the key.\n",
        "\n",
        "We have a list of list of pairs:\n",
        "\n",
        "<code>[[(o, 1), (e, 1), (o,1), (e,1)], [(o, 1),(e,1),(e,1)], [(o, 1), (e, 1), (o,1)], [(o, 1), (e, 1), (o,1), (e,1)]]</code>\n",
        "\n",
        "and we have to create two lists of pairs:\n",
        "\n",
        "<code>[[(o, 1), (o, 1), (o, 1), (o, 1), (o, 1), (o, 1), (o, 1)], [(e, 1), (e, 1), (e, 1), (e, 1), (e, 1), (e, 1), (e, 1)]]</code>\n",
        "\n",
        "</font>\n",
        "</p>\n",
        "\n"
      ]
    },
    {
      "cell_type": "code",
      "execution_count": 7,
      "metadata": {
        "id": "YA5It5kQSjuv",
        "scrolled": true
      },
      "outputs": [
        {
          "name": "stdout",
          "output_type": "stream",
          "text": [
            "[[('o', 1), ('o', 1), ('o', 1), ('o', 1), ('o', 1), ('o', 1), ('o', 1), ('o', 1)], [('e', 1), ('e', 1), ('e', 1), ('e', 1), ('e', 1), ('e', 1)]]\n"
          ]
        }
      ],
      "source": [
        "#Provide here few comment lines that describe your shuffle function\n",
        "\n",
        "\n",
        "def shuffle_odd_even_sol(pairs):\n",
        "    odd = []\n",
        "    even = []\n",
        "    for i in range(len(pairs)):\n",
        "        if pairs[i][0] == 'o':\n",
        "            odd.append(pairs[i])\n",
        "        else:\n",
        "            even.append(pairs[i])\n",
        "    result = []\n",
        "    result.append(odd)\n",
        "    result.append(even)\n",
        "\n",
        "    # to complete with your code\n",
        "    return (result)\n",
        "\n",
        "res = shuffle_odd_even_sol(map_odd_even_sol(array_numbers))\n",
        "print(res)"
      ]
    },
    {
      "cell_type": "markdown",
      "metadata": {
        "id": "d_cZDMJbSjux"
      },
      "source": [
        "### Step 3 - <code>reduce()</code>\n",
        "\n",
        "<p align=\"justify\">\n",
        "<font size=\"3\">\n",
        "Here we are going to define the function that it is going to produce the final result.\n",
        "We are going to run the reduce function for each key (here for each different group, then twice).\n",
        "</font>\n",
        "</p>\n"
      ]
    },
    {
      "cell_type": "code",
      "execution_count": 8,
      "metadata": {
        "id": "AZXx0VRVSjux",
        "scrolled": true
      },
      "outputs": [
        {
          "name": "stdout",
          "output_type": "stream",
          "text": [
            "[('o', 8), ('e', 6)]\n"
          ]
        }
      ],
      "source": [
        "#Provide here few comment lines that describe your reduce function\n",
        "\n",
        "\n",
        "def reduce_sol(tuples):\n",
        "    result = {}  # 创建一个空字典，用于存储结果\n",
        "    for tuple_list in tuples:\n",
        "        for item in tuple_list:\n",
        "            key, value = item  # 解包元组，获取键和值\n",
        "            if key in result:\n",
        "                result[key] += value  # 如果键已存在于结果中，将值累加\n",
        "            else:\n",
        "                result[key] = value  # 如果键不存在于结果中，添加新的键值对\n",
        "    return list(result.items())  # 将结果转换为列表形式的键值对\n",
        "\n",
        "\n",
        "\n",
        "\n",
        "\n",
        "    #to complete with your code\n",
        "    \n",
        "\n",
        "#Provide here the code that calls your reduce function according to your implementation\n",
        "\n",
        "res = reduce_sol(shuffle_odd_even_sol(map_odd_even_sol(array_numbers)))\n",
        "print(res)\n"
      ]
    },
    {
      "cell_type": "markdown",
      "metadata": {
        "id": "Rk34RU8JSjuz"
      },
      "source": [
        "## <strong>Exercise 2</strong>\n",
        "### A simple program for counting occurrences\n",
        "\n",
        "<p align=\"justify\">\n",
        "<font size=\"3\">\n",
        "Suppose now that we want to count the number of occurrences of each number as we did for the file containing words.\n",
        "<font size=\"4\">    \n",
        "\n",
        "```    \n",
        "1 2 3 4\n",
        "\n",
        "3 4 4\n",
        "\n",
        "5 6 7\n",
        "\n",
        "9 8 7 4\n",
        "```\n",
        "\n",
        "</font>\n",
        "</font>\n",
        "</p>\n",
        "\n",
        "\n",
        "\n",
        "\n",
        "<p align=\"justify\">\n",
        "<font size=\"3\">\n",
        "For our file we will have as result:\n",
        "    \n",
        "<code>[[1, 1], [2, 1], [3, 2], [4, 4], [5, 1], [6, 1], [7, 2], [8, 1], [9, 1]]</code>\n",
        "\n",
        "</font>\n",
        "</p>\n",
        "\n",
        "\n",
        "\n",
        "\n",
        "\n",
        "<p align=\"justify\">\n",
        "<font size=\"3\">\n",
        "We can go again step by step:\n",
        "\n",
        "\n",
        "\n",
        "<ol>\n",
        "<li> Define a function that produces pairs for each line </li>\n",
        "    <code>[(1, 1), (2, 1), (3, 1), (4, 1), (3, 1), (4, 1), (4,1), (5, 1), (6, 1), (7, 1), (9, 1), ...]</code>\n",
        "\n",
        "<li> define a function that shuffles and groups in general according to the key </li>\n",
        "    <code>[[[1, 1]], [[2, 1]], [[3, 1], [3, 1]], [[4, 1], [4, 1]], ...]</code>\n",
        "\n",
        "<li> define a function reduce that sums up the results </li>\n",
        "    <code>[[1, 1], [2, 1], [3, 2], [4, 4], [5, 1], [6, 1], [7, 2], [8, 1], [9, 1]]</code>\n",
        "\n",
        "</ol>\n",
        "We try to reuse the functions previously defined.\n",
        "</font>\n",
        "</p>\n",
        "\n",
        "\n",
        "\n",
        "### Step 1 - map()\n",
        "<p align=\"justify\">\n",
        "<font size=\"3\">\n",
        "We are going to define a Python function that generates, given a list of list of integers a pair (n,1) for each element\n",
        "of the list.\n",
        "\n",
        "\n",
        "<font size=\"4\">\n",
        "\n",
        "```\n",
        "1 2 3 4\n",
        "\n",
        "3 4 4\n",
        "\n",
        "5 6 7\n",
        "\n",
        "9 8 7 4\n",
        "```\n",
        "</font>\n",
        "</font>\n",
        "</p>\n",
        "<p align=\"justify\">\n",
        "<font size=\"3\">\n",
        "For the first line we will have:\n",
        "</font>\n",
        "</p>\n",
        "\n",
        "<code>(1,1), (2,1), (3,1), (4,1)</code>\n",
        "\n",
        "\n",
        "\n",
        "<p align=\"justify\">\n",
        "<font size=\"3\">\n",
        "For the second:\n",
        "</font>\n",
        "</p>\n",
        "\n",
        "<code>(3,1), (4,1), (4,1)</code>\n",
        "\n",
        "etc.\n",
        "\n"
      ]
    },
    {
      "cell_type": "code",
      "execution_count": 9,
      "metadata": {
        "id": "ved9CtvMSju0",
        "scrolled": true
      },
      "outputs": [
        {
          "name": "stdout",
          "output_type": "stream",
          "text": [
            "[[1, 2, 3, 3], [3, 4, 4], [5, 6, 7], [9, 8, 7, 4]]\n",
            "[(1, 1), (2, 1), (3, 1), (3, 1), (3, 1), (4, 1), (4, 1), (5, 1), (6, 1), (7, 1), (9, 1), (8, 1), (7, 1), (4, 1)]\n"
          ]
        }
      ],
      "source": [
        "#Provide here few comment lines that describe your map function\n",
        "\n",
        "def map_num_counter_sol(array):\n",
        "    numList = []  # 用于存储扁平化的整数列表\n",
        "\n",
        "    # 遍历输入的嵌套整数列表\n",
        "    for i in range(len(array)):\n",
        "      value = array[i]\n",
        "      numList.append((value,1))\n",
        "\n",
        "    return numList  # 返回扁平化的整数列表\n",
        "\n",
        "array_numbers = array_reader(\"numbers.txt\")\n",
        "print(array_numbers)\n",
        "res = []\n",
        "for line in array_numbers :\n",
        "  res += map_num_counter_sol(line)\n",
        "print(res)\n"
      ]
    },
    {
      "cell_type": "markdown",
      "metadata": {
        "id": "oe-FkbgCSju2",
        "scrolled": true
      },
      "source": [
        "\n",
        "### Step 2 - <code>shuffle()</code>\n",
        "\n",
        "<p align=\"justify\">\n",
        "<font size=\"3\">\n",
        "In this function we are going to group according to the integer in the key and we can store the result in a dictionary.\n",
        "</font>\n",
        "</p>\n",
        "\n"
      ]
    },
    {
      "cell_type": "code",
      "execution_count": 10,
      "metadata": {
        "id": "gnHyNaXzSju2"
      },
      "outputs": [
        {
          "name": "stdout",
          "output_type": "stream",
          "text": [
            "defaultdict(<class 'list'>, {1: [1], 2: [1], 3: [1, 1, 1], 4: [1, 1, 1], 5: [1], 6: [1], 7: [1, 1], 9: [1], 8: [1]})\n"
          ]
        }
      ],
      "source": [
        "from collections import defaultdict\n",
        "\n",
        "#Provide here few comment lines that describe your shuffle function\n",
        "\n",
        "\n",
        "\n",
        "def shuffle_pairs_sol(input) :\n",
        "     # to complete with your code\n",
        "     d = defaultdict(list)\n",
        "     for k,v in input:\n",
        "          d[k].append(v)\n",
        "     return d\n",
        "\n",
        "res = shuffle_pairs_sol(res)\n",
        "print(res)\n",
        "\n"
      ]
    },
    {
      "cell_type": "markdown",
      "metadata": {
        "id": "lYM8qhAuSju5",
        "scrolled": true
      },
      "source": [
        "\n",
        "### Step 3 - <code>reduce()</code>\n",
        "\n",
        "<p align=\"justify\">\n",
        "<font size=\"3\">\n",
        "Here we are going to define a function that does the sum:\n",
        "</font>\n",
        "</p>\n",
        "\n"
      ]
    },
    {
      "cell_type": "code",
      "execution_count": 11,
      "metadata": {
        "id": "4s7hYmDwSju5"
      },
      "outputs": [
        {
          "name": "stdout",
          "output_type": "stream",
          "text": [
            "[(1, 1), (2, 1), (3, 3), (4, 3), (5, 1), (6, 1), (7, 2), (9, 1), (8, 1)]\n"
          ]
        }
      ],
      "source": [
        "#Provide here few comment lines that describe your reduce function\n",
        "\n",
        "def reduce_num_counter_sol(dict) :\n",
        "    res = []\n",
        "    #to complete with your code\n",
        "    for k in dict.keys():\n",
        "        res.append((k,len(dict[k])))\n",
        "\n",
        "    return res\n",
        "\n",
        "res = reduce_num_counter_sol(res)\n",
        "print(res)"
      ]
    },
    {
      "cell_type": "markdown",
      "metadata": {
        "id": "mS8xi0BRSju7"
      },
      "source": [
        "## <strong> Exercise 3</strong>\n",
        "###  Inverted index\n",
        "\n",
        "<p align=\"justify\">\n",
        "<font size=\"3\">\n",
        "In this exercise, we want to create an inverted index. An inverted index is an index that associates each word to the list of the file names in which the word occurs in.\n",
        "</font>\n",
        "</p>\n",
        "\n",
        "<p align=\"justify\">\n",
        "<font size=\"3\">\n",
        "We are going to read the file <code>books.json</code>. This file contains some lines. Each line represents a different file containing a book.  We are going to provide you the function for reading this file. The function will ignore the detail of the representation of each book.\n",
        "</font>\n",
        "</p>\n",
        "\n",
        "\n",
        "\n",
        "### The function that reads the json file\n",
        "\n",
        "<p align=\"justify\">\n",
        "<font size=\"3\">\n",
        "Python provides functions for reading JSON files and producing <code>(dict, list)</code> for what has been read. The function reads the data stored in the book.json file\n",
        "\n",
        "Moreover the <code>yield()</code> instruction allows to code a generator that produces the data only when the function is called (the <code> yield </code> function can be seen as a <code>return</code>-once statement that moreover freezes the state of the execution till the next run).\n",
        "</font>\n",
        "</p>\n",
        "\n"
      ]
    },
    {
      "cell_type": "code",
      "execution_count": 12,
      "metadata": {
        "id": "wN8-P1PUSju7"
      },
      "outputs": [
        {
          "name": "stdout",
          "output_type": "stream",
          "text": [
            "[['milton-paradise.txt', \"[ Paradise Lost by John Milton 1667 ] Book I Of Man ' s first disobedience , and the fruit Of that forbidden tree whose mortal taste Brought death into the World , and all our woe , With loss of Eden , till one greater Man Restore us , and regain the blissful seat , Sing , Heavenly Muse , that , on the secret top Of Oreb , or of Sinai , didst inspire That shepherd who first taught the chosen seed In the beginning how the heavens and earth Rose out of Chaos : or , if Sion hill Delight thee more , and Siloa ' s brook that flowed Fast by the oracle of God , I thence Invoke thy aid to my adventurous song , That with no middle flight intends to soar Above th ' Aonian mount , while it pursues Things unattempted yet in prose or rhyme .\"], ['edgeworth-parents.txt', \"[ The Parent ' s Assistant , by Maria Edgeworth ] THE ORPHANS . Near the ruins of the castle of Rossmore , in Ireland , is a small cabin , in which there once lived a widow and her four children . As long as she was able to work , she was very industrious , and was accounted the best spinner in the parish ; but she overworked herself at last , and fell ill , so that she could not sit to her wheel as she used to do , and was obliged to give it up to her eldest daughter , Mary .\"], ['austen-emma.txt', \"[ Emma by Jane Austen 1816 ] VOLUME I CHAPTER I Emma Woodhouse , handsome , clever , and rich , with a comfortable home and happy disposition , seemed to unite some of the best blessings of existence ; and had lived nearly twenty - one years in the world with very little to distress or vex her . She was the youngest of the two daughters of a most affectionate , indulgent father ; and had , in consequence of her sister ' s marriage , been mistress of his house from a very early period . Her mother had died too long ago for her to have more than an indistinct remembrance of her caresses ; and her place had been supplied by an excellent woman as governess , who had fallen little short of a mother in affection .\"], ['chesterton-ball.txt', '[ The Ball and The Cross by G . K . Chesterton 1909 ] I . A DISCUSSION SOMEWHAT IN THE AIR The flying ship of Professor Lucifer sang through the skies like a silver arrow ; the bleak white steel of it , gleaming in the bleak blue emptiness of the evening . That it was far above the earth was no expression for it ; to the two men in it , it seemed to be far above the stars . The professor had himself invented the flying machine , and had also invented nearly everything in it .'], ['bible-kjv.txt', '[ The King James Bible ] The Old Testament of the King James Bible The First Book of Moses : Called Genesis 1 : 1 In the beginning God created the heaven and the earth . 1 : 2 And the earth was without form , and void ; and darkness was upon the face of the deep . And the Spirit of God moved upon the face of the waters . 1 : 3 And God said , Let there be light : and there was light . 1 : 4 And God saw the light , that it was good : and God divided the light from the darkness . 1 : 5 And God called the light Day , and the darkness he called Night . And the evening and the morning were the first day .'], ['chesterton-thursday.txt', '[ The Man Who Was Thursday by G . K . Chesterton 1908 ] To Edmund Clerihew Bentley A cloud was on the mind of men , and wailing went the weather , Yea , a sick cloud upon the soul when we were boys together . Science announced nonentity and art admired decay ; The world was old and ended : but you and I were gay ; Round us in antic order their crippled vices came -- Lust that had lost its laughter , fear that had lost its shame . Like the white lock of Whistler , that lit our aimless gloom , Men showed their own white feather as proudly as a plume . Life was a fly that faded , and death a drone that stung ; The world was very old indeed when you and I were young .'], ['blake-poems.txt', '[ Poems by William Blake 1789 ] SONGS OF INNOCENCE AND OF EXPERIENCE and THE BOOK of THEL SONGS OF INNOCENCE INTRODUCTION Piping down the valleys wild , Piping songs of pleasant glee , On a cloud I saw a child , And he laughing said to me : \" Pipe a song about a Lamb !\" So I piped with merry cheer . \" Piper , pipe that song again ;\" So I piped : he wept to hear . \" Drop thy pipe , thy happy pipe ; Sing thy songs of happy cheer :!\" So I sang the same again , While he wept with joy to hear . \" Piper , sit thee down and write In a book , that all may read .\" So he vanish \\' d from my sight ; And I pluck \\' d a hollow reed , And I made a rural pen , And I stain \\' d the water clear , And I wrote my happy songs Every child may joy to hear .'], ['shakespeare-caesar.txt', '[ The Tragedie of Julius Caesar by William Shakespeare 1599 ] Actus Primus . Scoena Prima . Enter Flauius , Murellus , and certaine Commoners ouer the Stage . Flauius . Hence : home you idle Creatures , get you home : Is this a Holiday ? What , know you not ( Being Mechanicall ) you ought not walke Vpon a labouring day , without the signe Of your Profession ? Speake , what Trade art thou ? Car . Why Sir , a Carpenter Mur . Where is thy Leather Apron , and thy Rule ? What dost thou with thy best Apparrell on ? You sir , what Trade are you ? Cobl . Truely Sir , in respect of a fine Workman , I am but as you would say , a Cobler Mur . But what Trade art thou ? Answer me directly Cob . A Trade Sir , that I hope I may vse , with a safe Conscience , which is indeed Sir , a Mender of bad soules Fla .'], ['whitman-leaves.txt', \"[ Leaves of Grass by Walt Whitman 1855 ] Come , said my soul , Such verses for my Body let us write , ( for we are one ,) That should I after return , Or , long , long hence , in other spheres , There to some group of mates the chants resuming , ( Tallying Earth ' s soil , trees , winds , tumultuous waves ,) Ever with pleas ' d smile I may keep on , Ever and ever yet the verses owning -- as , first , I here and now Signing for Soul and Body , set to them my name , Walt Whitman [ BOOK I . INSCRIPTIONS ] } One ' s - Self I Sing One ' s - self I sing , a simple separate person , Yet utter the word Democratic , the word En - Masse .\"], ['melville-moby_dick.txt', '[ Moby Dick by Herman Melville 1851 ] ETYMOLOGY . ( Supplied by a Late Consumptive Usher to a Grammar School ) The pale Usher -- threadbare in coat , heart , body , and brain ; I see him now . He was ever dusting his old lexicons and grammars , with a queer handkerchief , mockingly embellished with all the gay flags of all the known nations of the world . He loved to dust his old grammars ; it somehow mildly reminded him of his mortality .']]\n"
          ]
        }
      ],
      "source": [
        "import json\n",
        "def readData(filename):\n",
        "    with open(filename, mode='r', encoding='utf-8') as file:\n",
        "        for line in file:\n",
        "            record = json.loads(line)\n",
        "            yield(record)\n",
        "print(list(readData('books.json')))"
      ]
    },
    {
      "cell_type": "markdown",
      "metadata": {
        "id": "Tg3-4LU_Sju9"
      },
      "source": [
        "<p align=\"justify\">\n",
        "<font size=\"3\">\n",
        "    \n",
        "You can store the output of the reading in a list where the first element of the list will be the file name and the second element will contain the title and the content of the book.\n",
        "    \n",
        "Now that you have the function that reads the file you can focus on the MapReduce procedure.\n",
        "    \n",
        "The expected output of the MapReduce procedure is a list [] that contains a set of <code>(w, L)</code> elements, where <code>w</code> is a word appearing in at least one text of the given books and <code>L</code> is the list of the names of the files containing <code>w</code> (without repetition).\n",
        "Given this book representation describe a possible implementation of the :\n",
        "    \n",
        "<ol>\n",
        "    <li> <code>map()</code> function that given the text produces a set of key-value pairs</li>\n",
        "    <li> <code>shuffle()</code> function that groups the key-value pairs according to a criteria </li>\n",
        "    <li> <code>reduce()</code> function that produces the final result</li>\n",
        "</ol>\n",
        "detailing all the actions that the <code>map()</code> function and a <code>reduce()</code> functions must perform.\n",
        "</font>"
      ]
    },
    {
      "cell_type": "code",
      "execution_count": 16,
      "metadata": {
        "id": "fiSieoDPSju-"
      },
      "outputs": [
        {
          "name": "stdout",
          "output_type": "stream",
          "text": [
            "defaultdict(<class 'list'>, {'[': ['milton-paradise', 'edgeworth-parents', 'austen-emma', 'chesterton-ball', 'bible-kjv', 'chesterton-thursday', 'blake-poems', 'shakespeare-caesar', 'whitman-leaves', 'whitman-leaves', 'melville-moby_dick'], 'Paradise': ['milton-paradise'], 'Lost': ['milton-paradise'], 'by': ['milton-paradise', 'milton-paradise', 'edgeworth-parents', 'austen-emma', 'austen-emma', 'chesterton-ball', 'chesterton-thursday', 'blake-poems', 'shakespeare-caesar', 'whitman-leaves', 'melville-moby_dick', 'melville-moby_dick'], 'John': ['milton-paradise'], 'Milton': ['milton-paradise'], '1667': ['milton-paradise'], ']': ['milton-paradise', 'edgeworth-parents', 'austen-emma', 'chesterton-ball', 'bible-kjv', 'chesterton-thursday', 'blake-poems', 'shakespeare-caesar', 'whitman-leaves', 'whitman-leaves', 'melville-moby_dick'], 'Book': ['milton-paradise', 'bible-kjv'], 'I': ['milton-paradise', 'milton-paradise', 'austen-emma', 'austen-emma', 'chesterton-ball', 'chesterton-thursday', 'chesterton-thursday', 'blake-poems', 'blake-poems', 'blake-poems', 'blake-poems', 'blake-poems', 'blake-poems', 'blake-poems', 'blake-poems', 'shakespeare-caesar', 'shakespeare-caesar', 'shakespeare-caesar', 'whitman-leaves', 'whitman-leaves', 'whitman-leaves', 'whitman-leaves', 'whitman-leaves', 'whitman-leaves', 'melville-moby_dick'], 'Of': ['milton-paradise', 'milton-paradise', 'milton-paradise', 'shakespeare-caesar'], 'Man': ['milton-paradise', 'milton-paradise', 'chesterton-thursday'], \"'\": ['milton-paradise', 'milton-paradise', 'milton-paradise', 'edgeworth-parents', 'austen-emma', 'blake-poems', 'blake-poems', 'blake-poems', 'whitman-leaves', 'whitman-leaves', 'whitman-leaves', 'whitman-leaves'], 's': ['milton-paradise', 'milton-paradise', 'edgeworth-parents', 'austen-emma', 'whitman-leaves', 'whitman-leaves', 'whitman-leaves'], 'first': ['milton-paradise', 'milton-paradise', 'bible-kjv', 'whitman-leaves'], 'disobedience': ['milton-paradise'], ',': ['milton-paradise', 'milton-paradise', 'milton-paradise', 'milton-paradise', 'milton-paradise', 'milton-paradise', 'milton-paradise', 'milton-paradise', 'milton-paradise', 'milton-paradise', 'milton-paradise', 'milton-paradise', 'milton-paradise', 'milton-paradise', 'milton-paradise', 'milton-paradise', 'edgeworth-parents', 'edgeworth-parents', 'edgeworth-parents', 'edgeworth-parents', 'edgeworth-parents', 'edgeworth-parents', 'edgeworth-parents', 'edgeworth-parents', 'edgeworth-parents', 'edgeworth-parents', 'austen-emma', 'austen-emma', 'austen-emma', 'austen-emma', 'austen-emma', 'austen-emma', 'austen-emma', 'austen-emma', 'austen-emma', 'chesterton-ball', 'chesterton-ball', 'chesterton-ball', 'bible-kjv', 'bible-kjv', 'bible-kjv', 'bible-kjv', 'chesterton-thursday', 'chesterton-thursday', 'chesterton-thursday', 'chesterton-thursday', 'chesterton-thursday', 'chesterton-thursday', 'chesterton-thursday', 'blake-poems', 'blake-poems', 'blake-poems', 'blake-poems', 'blake-poems', 'blake-poems', 'blake-poems', 'blake-poems', 'blake-poems', 'blake-poems', 'blake-poems', 'shakespeare-caesar', 'shakespeare-caesar', 'shakespeare-caesar', 'shakespeare-caesar', 'shakespeare-caesar', 'shakespeare-caesar', 'shakespeare-caesar', 'shakespeare-caesar', 'shakespeare-caesar', 'shakespeare-caesar', 'shakespeare-caesar', 'shakespeare-caesar', 'shakespeare-caesar', 'shakespeare-caesar', 'shakespeare-caesar', 'shakespeare-caesar', 'whitman-leaves', 'whitman-leaves', 'whitman-leaves', 'whitman-leaves', 'whitman-leaves', 'whitman-leaves', 'whitman-leaves', 'whitman-leaves', 'whitman-leaves', 'whitman-leaves', 'whitman-leaves', 'whitman-leaves', 'whitman-leaves', 'whitman-leaves', 'whitman-leaves', 'whitman-leaves', 'whitman-leaves', 'whitman-leaves', 'whitman-leaves', 'whitman-leaves', 'melville-moby_dick', 'melville-moby_dick', 'melville-moby_dick', 'melville-moby_dick', 'melville-moby_dick'], 'and': ['milton-paradise', 'milton-paradise', 'milton-paradise', 'milton-paradise', 'milton-paradise', 'edgeworth-parents', 'edgeworth-parents', 'edgeworth-parents', 'edgeworth-parents', 'austen-emma', 'austen-emma', 'austen-emma', 'austen-emma', 'austen-emma', 'chesterton-ball', 'chesterton-ball', 'bible-kjv', 'bible-kjv', 'bible-kjv', 'bible-kjv', 'bible-kjv', 'bible-kjv', 'bible-kjv', 'chesterton-thursday', 'chesterton-thursday', 'chesterton-thursday', 'chesterton-thursday', 'chesterton-thursday', 'chesterton-thursday', 'blake-poems', 'blake-poems', 'shakespeare-caesar', 'shakespeare-caesar', 'whitman-leaves', 'whitman-leaves', 'whitman-leaves', 'melville-moby_dick', 'melville-moby_dick'], 'the': ['milton-paradise', 'milton-paradise', 'milton-paradise', 'milton-paradise', 'milton-paradise', 'milton-paradise', 'milton-paradise', 'milton-paradise', 'edgeworth-parents', 'edgeworth-parents', 'edgeworth-parents', 'edgeworth-parents', 'austen-emma', 'austen-emma', 'austen-emma', 'austen-emma', 'chesterton-ball', 'chesterton-ball', 'chesterton-ball', 'chesterton-ball', 'chesterton-ball', 'chesterton-ball', 'chesterton-ball', 'chesterton-ball', 'bible-kjv', 'bible-kjv', 'bible-kjv', 'bible-kjv', 'bible-kjv', 'bible-kjv', 'bible-kjv', 'bible-kjv', 'bible-kjv', 'bible-kjv', 'bible-kjv', 'bible-kjv', 'bible-kjv', 'bible-kjv', 'bible-kjv', 'bible-kjv', 'bible-kjv', 'bible-kjv', 'chesterton-thursday', 'chesterton-thursday', 'chesterton-thursday', 'chesterton-thursday', 'blake-poems', 'blake-poems', 'blake-poems', 'shakespeare-caesar', 'shakespeare-caesar', 'whitman-leaves', 'whitman-leaves', 'whitman-leaves', 'whitman-leaves', 'melville-moby_dick', 'melville-moby_dick', 'melville-moby_dick'], 'fruit': ['milton-paradise'], 'that': ['milton-paradise', 'milton-paradise', 'milton-paradise', 'edgeworth-parents', 'bible-kjv', 'chesterton-thursday', 'chesterton-thursday', 'chesterton-thursday', 'chesterton-thursday', 'chesterton-thursday', 'blake-poems', 'blake-poems', 'shakespeare-caesar'], 'forbidden': ['milton-paradise'], 'tree': ['milton-paradise'], 'whose': ['milton-paradise'], 'mortal': ['milton-paradise'], 'taste': ['milton-paradise'], 'Brought': ['milton-paradise'], 'death': ['milton-paradise', 'chesterton-thursday'], 'into': ['milton-paradise'], 'World': ['milton-paradise'], 'all': ['milton-paradise', 'blake-poems', 'melville-moby_dick', 'melville-moby_dick'], 'our': ['milton-paradise', 'chesterton-thursday'], 'woe': ['milton-paradise'], 'With': ['milton-paradise'], 'loss': ['milton-paradise'], 'of': ['milton-paradise', 'milton-paradise', 'milton-paradise', 'milton-paradise', 'edgeworth-parents', 'edgeworth-parents', 'austen-emma', 'austen-emma', 'austen-emma', 'austen-emma', 'austen-emma', 'austen-emma', 'austen-emma', 'austen-emma', 'chesterton-ball', 'chesterton-ball', 'chesterton-ball', 'bible-kjv', 'bible-kjv', 'bible-kjv', 'bible-kjv', 'bible-kjv', 'chesterton-thursday', 'chesterton-thursday', 'blake-poems', 'blake-poems', 'blake-poems', 'shakespeare-caesar', 'shakespeare-caesar', 'shakespeare-caesar', 'whitman-leaves', 'whitman-leaves', 'melville-moby_dick', 'melville-moby_dick', 'melville-moby_dick'], 'Eden': ['milton-paradise'], 'till': ['milton-paradise'], 'one': ['milton-paradise', 'austen-emma', 'whitman-leaves'], 'greater': ['milton-paradise'], 'Restore': ['milton-paradise'], 'us': ['milton-paradise', 'chesterton-thursday', 'whitman-leaves'], 'regain': ['milton-paradise'], 'blissful': ['milton-paradise'], 'seat': ['milton-paradise'], 'Sing': ['milton-paradise', 'blake-poems', 'whitman-leaves'], 'Heavenly': ['milton-paradise'], 'Muse': ['milton-paradise'], 'on': ['milton-paradise', 'chesterton-thursday', 'shakespeare-caesar', 'whitman-leaves'], 'secret': ['milton-paradise'], 'top': ['milton-paradise'], 'Oreb': ['milton-paradise'], 'or': ['milton-paradise', 'milton-paradise', 'milton-paradise', 'austen-emma'], 'Sinai': ['milton-paradise'], 'didst': ['milton-paradise'], 'inspire': ['milton-paradise'], 'That': ['milton-paradise', 'milton-paradise', 'chesterton-ball', 'whitman-leaves'], 'shepherd': ['milton-paradise'], 'who': ['milton-paradise', 'austen-emma'], 'taught': ['milton-paradise'], 'chosen': ['milton-paradise'], 'seed': ['milton-paradise'], 'In': ['milton-paradise', 'bible-kjv', 'blake-poems'], 'beginning': ['milton-paradise', 'bible-kjv'], 'how': ['milton-paradise'], 'heavens': ['milton-paradise'], 'earth': ['milton-paradise', 'chesterton-ball', 'bible-kjv', 'bible-kjv'], 'Rose': ['milton-paradise'], 'out': ['milton-paradise'], 'Chaos': ['milton-paradise'], ':': ['milton-paradise', 'bible-kjv', 'bible-kjv', 'bible-kjv', 'bible-kjv', 'bible-kjv', 'bible-kjv', 'bible-kjv', 'bible-kjv', 'chesterton-thursday', 'blake-poems', 'blake-poems', 'shakespeare-caesar', 'shakespeare-caesar'], 'if': ['milton-paradise'], 'Sion': ['milton-paradise'], 'hill': ['milton-paradise'], 'Delight': ['milton-paradise'], 'thee': ['milton-paradise', 'blake-poems'], 'more': ['milton-paradise', 'austen-emma'], 'Siloa': ['milton-paradise'], 'brook': ['milton-paradise'], 'flowed': ['milton-paradise'], 'Fast': ['milton-paradise'], 'oracle': ['milton-paradise'], 'God': ['milton-paradise', 'bible-kjv', 'bible-kjv', 'bible-kjv', 'bible-kjv', 'bible-kjv', 'bible-kjv'], 'thence': ['milton-paradise'], 'Invoke': ['milton-paradise'], 'thy': ['milton-paradise', 'blake-poems', 'blake-poems', 'blake-poems', 'shakespeare-caesar', 'shakespeare-caesar', 'shakespeare-caesar'], 'aid': ['milton-paradise'], 'to': ['milton-paradise', 'milton-paradise', 'edgeworth-parents', 'edgeworth-parents', 'edgeworth-parents', 'edgeworth-parents', 'edgeworth-parents', 'austen-emma', 'austen-emma', 'austen-emma', 'chesterton-ball', 'chesterton-ball', 'blake-poems', 'blake-poems', 'blake-poems', 'blake-poems', 'whitman-leaves', 'whitman-leaves', 'melville-moby_dick', 'melville-moby_dick'], 'my': ['milton-paradise', 'blake-poems', 'blake-poems', 'whitman-leaves', 'whitman-leaves', 'whitman-leaves'], 'adventurous': ['milton-paradise'], 'song': ['milton-paradise', 'blake-poems', 'blake-poems'], 'with': ['milton-paradise', 'austen-emma', 'austen-emma', 'blake-poems', 'blake-poems', 'shakespeare-caesar', 'shakespeare-caesar', 'whitman-leaves', 'melville-moby_dick', 'melville-moby_dick'], 'no': ['milton-paradise', 'chesterton-ball'], 'middle': ['milton-paradise'], 'flight': ['milton-paradise'], 'intends': ['milton-paradise'], 'soar': ['milton-paradise'], 'Above': ['milton-paradise'], 'th': ['milton-paradise'], 'Aonian': ['milton-paradise'], 'mount': ['milton-paradise'], 'while': ['milton-paradise'], 'it': ['milton-paradise', 'edgeworth-parents', 'chesterton-ball', 'chesterton-ball', 'chesterton-ball', 'chesterton-ball', 'chesterton-ball', 'chesterton-ball', 'bible-kjv', 'melville-moby_dick'], 'pursues': ['milton-paradise'], 'Things': ['milton-paradise'], 'unattempted': ['milton-paradise'], 'yet': ['milton-paradise', 'whitman-leaves'], 'in': ['milton-paradise', 'edgeworth-parents', 'edgeworth-parents', 'edgeworth-parents', 'austen-emma', 'austen-emma', 'austen-emma', 'chesterton-ball', 'chesterton-ball', 'chesterton-ball', 'chesterton-thursday', 'shakespeare-caesar', 'whitman-leaves', 'melville-moby_dick'], 'prose': ['milton-paradise'], 'rhyme': ['milton-paradise'], '.': ['milton-paradise', 'edgeworth-parents', 'edgeworth-parents', 'edgeworth-parents', 'austen-emma', 'austen-emma', 'austen-emma', 'chesterton-ball', 'chesterton-ball', 'chesterton-ball', 'chesterton-ball', 'chesterton-ball', 'chesterton-ball', 'bible-kjv', 'bible-kjv', 'bible-kjv', 'bible-kjv', 'bible-kjv', 'bible-kjv', 'bible-kjv', 'chesterton-thursday', 'chesterton-thursday', 'chesterton-thursday', 'chesterton-thursday', 'chesterton-thursday', 'chesterton-thursday', 'blake-poems', 'blake-poems', 'blake-poems', 'blake-poems', 'shakespeare-caesar', 'shakespeare-caesar', 'shakespeare-caesar', 'shakespeare-caesar', 'shakespeare-caesar', 'shakespeare-caesar', 'shakespeare-caesar', 'shakespeare-caesar', 'shakespeare-caesar', 'shakespeare-caesar', 'whitman-leaves', 'whitman-leaves', 'melville-moby_dick', 'melville-moby_dick', 'melville-moby_dick', 'melville-moby_dick'], 'The': ['edgeworth-parents', 'chesterton-ball', 'chesterton-ball', 'chesterton-ball', 'chesterton-ball', 'bible-kjv', 'bible-kjv', 'bible-kjv', 'chesterton-thursday', 'chesterton-thursday', 'chesterton-thursday', 'shakespeare-caesar', 'melville-moby_dick'], 'Parent': ['edgeworth-parents'], 'Assistant': ['edgeworth-parents'], 'Maria': ['edgeworth-parents'], 'Edgeworth': ['edgeworth-parents'], 'THE': ['edgeworth-parents', 'chesterton-ball', 'blake-poems'], 'ORPHANS': ['edgeworth-parents'], 'Near': ['edgeworth-parents'], 'ruins': ['edgeworth-parents'], 'castle': ['edgeworth-parents'], 'Rossmore': ['edgeworth-parents'], 'Ireland': ['edgeworth-parents'], 'is': ['edgeworth-parents', 'shakespeare-caesar', 'shakespeare-caesar'], 'a': ['edgeworth-parents', 'edgeworth-parents', 'austen-emma', 'austen-emma', 'austen-emma', 'austen-emma', 'chesterton-ball', 'chesterton-thursday', 'chesterton-thursday', 'chesterton-thursday', 'chesterton-thursday', 'blake-poems', 'blake-poems', 'blake-poems', 'blake-poems', 'blake-poems', 'blake-poems', 'blake-poems', 'shakespeare-caesar', 'shakespeare-caesar', 'shakespeare-caesar', 'shakespeare-caesar', 'shakespeare-caesar', 'shakespeare-caesar', 'shakespeare-caesar', 'whitman-leaves', 'melville-moby_dick', 'melville-moby_dick', 'melville-moby_dick'], 'small': ['edgeworth-parents'], 'cabin': ['edgeworth-parents'], 'which': ['edgeworth-parents', 'shakespeare-caesar'], 'there': ['edgeworth-parents', 'bible-kjv', 'bible-kjv'], 'once': ['edgeworth-parents'], 'lived': ['edgeworth-parents', 'austen-emma'], 'widow': ['edgeworth-parents'], 'her': ['edgeworth-parents', 'edgeworth-parents', 'edgeworth-parents', 'austen-emma', 'austen-emma', 'austen-emma', 'austen-emma', 'austen-emma'], 'four': ['edgeworth-parents'], 'children': ['edgeworth-parents'], 'As': ['edgeworth-parents'], 'long': ['edgeworth-parents', 'austen-emma', 'whitman-leaves', 'whitman-leaves'], 'as': ['edgeworth-parents', 'edgeworth-parents', 'austen-emma', 'chesterton-thursday', 'chesterton-thursday', 'shakespeare-caesar', 'whitman-leaves'], 'she': ['edgeworth-parents', 'edgeworth-parents', 'edgeworth-parents', 'edgeworth-parents', 'edgeworth-parents'], 'was': ['edgeworth-parents', 'edgeworth-parents', 'edgeworth-parents', 'edgeworth-parents', 'austen-emma', 'chesterton-ball', 'chesterton-ball', 'bible-kjv', 'bible-kjv', 'bible-kjv', 'bible-kjv', 'chesterton-thursday', 'chesterton-thursday', 'chesterton-thursday', 'chesterton-thursday', 'melville-moby_dick'], 'able': ['edgeworth-parents'], 'work': ['edgeworth-parents'], 'very': ['edgeworth-parents', 'austen-emma', 'austen-emma', 'chesterton-thursday'], 'industrious': ['edgeworth-parents'], 'accounted': ['edgeworth-parents'], 'best': ['edgeworth-parents', 'austen-emma', 'shakespeare-caesar'], 'spinner': ['edgeworth-parents'], 'parish': ['edgeworth-parents'], ';': ['edgeworth-parents', 'austen-emma', 'austen-emma', 'austen-emma', 'chesterton-ball', 'chesterton-ball', 'bible-kjv', 'chesterton-thursday', 'chesterton-thursday', 'chesterton-thursday', 'blake-poems', 'blake-poems', 'melville-moby_dick', 'melville-moby_dick'], 'but': ['edgeworth-parents', 'chesterton-thursday', 'shakespeare-caesar'], 'overworked': ['edgeworth-parents'], 'herself': ['edgeworth-parents'], 'at': ['edgeworth-parents'], 'last': ['edgeworth-parents'], 'fell': ['edgeworth-parents'], 'ill': ['edgeworth-parents'], 'so': ['edgeworth-parents'], 'could': ['edgeworth-parents'], 'not': ['edgeworth-parents', 'shakespeare-caesar', 'shakespeare-caesar'], 'sit': ['edgeworth-parents', 'blake-poems'], 'wheel': ['edgeworth-parents'], 'used': ['edgeworth-parents'], 'do': ['edgeworth-parents'], 'obliged': ['edgeworth-parents'], 'give': ['edgeworth-parents'], 'up': ['edgeworth-parents'], 'eldest': ['edgeworth-parents'], 'daughter': ['edgeworth-parents'], 'Mary': ['edgeworth-parents'], 'Emma': ['austen-emma', 'austen-emma'], 'Jane': ['austen-emma'], 'Austen': ['austen-emma'], '1816': ['austen-emma'], 'VOLUME': ['austen-emma'], 'CHAPTER': ['austen-emma'], 'Woodhouse': ['austen-emma'], 'handsome': ['austen-emma'], 'clever': ['austen-emma'], 'rich': ['austen-emma'], 'comfortable': ['austen-emma'], 'home': ['austen-emma', 'shakespeare-caesar', 'shakespeare-caesar'], 'happy': ['austen-emma', 'blake-poems', 'blake-poems', 'blake-poems'], 'disposition': ['austen-emma'], 'seemed': ['austen-emma', 'chesterton-ball'], 'unite': ['austen-emma'], 'some': ['austen-emma', 'whitman-leaves'], 'blessings': ['austen-emma'], 'existence': ['austen-emma'], 'had': ['austen-emma', 'austen-emma', 'austen-emma', 'austen-emma', 'austen-emma', 'chesterton-ball', 'chesterton-ball', 'chesterton-thursday', 'chesterton-thursday'], 'nearly': ['austen-emma', 'chesterton-ball'], 'twenty': ['austen-emma'], '-': ['austen-emma', 'whitman-leaves', 'whitman-leaves', 'whitman-leaves'], 'years': ['austen-emma'], 'world': ['austen-emma', 'chesterton-thursday', 'chesterton-thursday', 'melville-moby_dick'], 'little': ['austen-emma', 'austen-emma'], 'distress': ['austen-emma'], 'vex': ['austen-emma'], 'She': ['austen-emma'], 'youngest': ['austen-emma'], 'two': ['austen-emma', 'chesterton-ball'], 'daughters': ['austen-emma'], 'most': ['austen-emma'], 'affectionate': ['austen-emma'], 'indulgent': ['austen-emma'], 'father': ['austen-emma'], 'consequence': ['austen-emma'], 'sister': ['austen-emma'], 'marriage': ['austen-emma'], 'been': ['austen-emma', 'austen-emma'], 'mistress': ['austen-emma'], 'his': ['austen-emma', 'melville-moby_dick', 'melville-moby_dick', 'melville-moby_dick'], 'house': ['austen-emma'], 'from': ['austen-emma', 'bible-kjv', 'blake-poems'], 'early': ['austen-emma'], 'period': ['austen-emma'], 'Her': ['austen-emma'], 'mother': ['austen-emma', 'austen-emma'], 'died': ['austen-emma'], 'too': ['austen-emma'], 'ago': ['austen-emma'], 'for': ['austen-emma', 'chesterton-ball', 'whitman-leaves', 'whitman-leaves', 'whitman-leaves'], 'have': ['austen-emma'], 'than': ['austen-emma'], 'an': ['austen-emma', 'austen-emma'], 'indistinct': ['austen-emma'], 'remembrance': ['austen-emma'], 'caresses': ['austen-emma'], 'place': ['austen-emma'], 'supplied': ['austen-emma'], 'excellent': ['austen-emma'], 'woman': ['austen-emma'], 'governess': ['austen-emma'], 'fallen': ['austen-emma'], 'short': ['austen-emma'], 'affection': ['austen-emma'], 'Ball': ['chesterton-ball'], 'Cross': ['chesterton-ball'], 'G': ['chesterton-ball', 'chesterton-thursday'], 'K': ['chesterton-ball', 'chesterton-thursday'], 'Chesterton': ['chesterton-ball', 'chesterton-thursday'], '1909': ['chesterton-ball'], 'A': ['chesterton-ball', 'chesterton-thursday', 'shakespeare-caesar'], 'DISCUSSION': ['chesterton-ball'], 'SOMEWHAT': ['chesterton-ball'], 'IN': ['chesterton-ball'], 'AIR': ['chesterton-ball'], 'flying': ['chesterton-ball', 'chesterton-ball'], 'ship': ['chesterton-ball'], 'Professor': ['chesterton-ball'], 'Lucifer': ['chesterton-ball'], 'sang': ['chesterton-ball', 'blake-poems'], 'through': ['chesterton-ball'], 'skies': ['chesterton-ball'], 'like': ['chesterton-ball'], 'silver': ['chesterton-ball'], 'arrow': ['chesterton-ball'], 'bleak': ['chesterton-ball', 'chesterton-ball'], 'white': ['chesterton-ball', 'chesterton-thursday', 'chesterton-thursday'], 'steel': ['chesterton-ball'], 'gleaming': ['chesterton-ball'], 'blue': ['chesterton-ball'], 'emptiness': ['chesterton-ball'], 'evening': ['chesterton-ball', 'bible-kjv'], 'far': ['chesterton-ball', 'chesterton-ball'], 'above': ['chesterton-ball', 'chesterton-ball'], 'expression': ['chesterton-ball'], 'men': ['chesterton-ball', 'chesterton-thursday'], 'be': ['chesterton-ball', 'bible-kjv'], 'stars': ['chesterton-ball'], 'professor': ['chesterton-ball'], 'himself': ['chesterton-ball'], 'invented': ['chesterton-ball', 'chesterton-ball'], 'machine': ['chesterton-ball'], 'also': ['chesterton-ball'], 'everything': ['chesterton-ball'], 'King': ['bible-kjv', 'bible-kjv'], 'James': ['bible-kjv', 'bible-kjv'], 'Bible': ['bible-kjv', 'bible-kjv'], 'Old': ['bible-kjv'], 'Testament': ['bible-kjv'], 'First': ['bible-kjv'], 'Moses': ['bible-kjv'], 'Called': ['bible-kjv'], 'Genesis': ['bible-kjv'], '1': ['bible-kjv', 'bible-kjv', 'bible-kjv', 'bible-kjv', 'bible-kjv', 'bible-kjv'], 'created': ['bible-kjv'], 'heaven': ['bible-kjv'], '2': ['bible-kjv'], 'And': ['bible-kjv', 'bible-kjv', 'bible-kjv', 'bible-kjv', 'bible-kjv', 'bible-kjv', 'blake-poems', 'blake-poems', 'blake-poems', 'blake-poems', 'blake-poems'], 'without': ['bible-kjv', 'shakespeare-caesar'], 'form': ['bible-kjv'], 'void': ['bible-kjv'], 'darkness': ['bible-kjv', 'bible-kjv', 'bible-kjv'], 'upon': ['bible-kjv', 'bible-kjv', 'chesterton-thursday'], 'face': ['bible-kjv', 'bible-kjv'], 'deep': ['bible-kjv'], 'Spirit': ['bible-kjv'], 'moved': ['bible-kjv'], 'waters': ['bible-kjv'], '3': ['bible-kjv'], 'said': ['bible-kjv', 'blake-poems', 'whitman-leaves'], 'Let': ['bible-kjv'], 'light': ['bible-kjv', 'bible-kjv', 'bible-kjv', 'bible-kjv', 'bible-kjv'], '4': ['bible-kjv'], 'saw': ['bible-kjv', 'blake-poems'], 'good': ['bible-kjv'], 'divided': ['bible-kjv'], '5': ['bible-kjv'], 'called': ['bible-kjv', 'bible-kjv'], 'Day': ['bible-kjv'], 'he': ['bible-kjv', 'blake-poems', 'blake-poems', 'blake-poems', 'blake-poems'], 'Night': ['bible-kjv'], 'morning': ['bible-kjv'], 'were': ['bible-kjv', 'chesterton-thursday', 'chesterton-thursday', 'chesterton-thursday'], 'day': ['bible-kjv', 'shakespeare-caesar'], 'Who': ['chesterton-thursday'], 'Was': ['chesterton-thursday'], 'Thursday': ['chesterton-thursday'], '1908': ['chesterton-thursday'], 'To': ['chesterton-thursday'], 'Edmund': ['chesterton-thursday'], 'Clerihew': ['chesterton-thursday'], 'Bentley': ['chesterton-thursday'], 'cloud': ['chesterton-thursday', 'chesterton-thursday', 'blake-poems'], 'mind': ['chesterton-thursday'], 'wailing': ['chesterton-thursday'], 'went': ['chesterton-thursday'], 'weather': ['chesterton-thursday'], 'Yea': ['chesterton-thursday'], 'sick': ['chesterton-thursday'], 'soul': ['chesterton-thursday', 'whitman-leaves'], 'when': ['chesterton-thursday', 'chesterton-thursday'], 'we': ['chesterton-thursday', 'whitman-leaves'], 'boys': ['chesterton-thursday'], 'together': ['chesterton-thursday'], 'Science': ['chesterton-thursday'], 'announced': ['chesterton-thursday'], 'nonentity': ['chesterton-thursday'], 'art': ['chesterton-thursday', 'shakespeare-caesar', 'shakespeare-caesar'], 'admired': ['chesterton-thursday'], 'decay': ['chesterton-thursday'], 'old': ['chesterton-thursday', 'chesterton-thursday', 'melville-moby_dick', 'melville-moby_dick'], 'ended': ['chesterton-thursday'], 'you': ['chesterton-thursday', 'chesterton-thursday', 'shakespeare-caesar', 'shakespeare-caesar', 'shakespeare-caesar', 'shakespeare-caesar', 'shakespeare-caesar', 'shakespeare-caesar'], 'gay': ['chesterton-thursday', 'melville-moby_dick'], 'Round': ['chesterton-thursday'], 'antic': ['chesterton-thursday'], 'order': ['chesterton-thursday'], 'their': ['chesterton-thursday', 'chesterton-thursday'], 'crippled': ['chesterton-thursday'], 'vices': ['chesterton-thursday'], 'came': ['chesterton-thursday'], '--': ['chesterton-thursday', 'whitman-leaves', 'melville-moby_dick'], 'Lust': ['chesterton-thursday'], 'lost': ['chesterton-thursday', 'chesterton-thursday'], 'its': ['chesterton-thursday', 'chesterton-thursday'], 'laughter': ['chesterton-thursday'], 'fear': ['chesterton-thursday'], 'shame': ['chesterton-thursday'], 'Like': ['chesterton-thursday'], 'lock': ['chesterton-thursday'], 'Whistler': ['chesterton-thursday'], 'lit': ['chesterton-thursday'], 'aimless': ['chesterton-thursday'], 'gloom': ['chesterton-thursday'], 'Men': ['chesterton-thursday'], 'showed': ['chesterton-thursday'], 'own': ['chesterton-thursday'], 'feather': ['chesterton-thursday'], 'proudly': ['chesterton-thursday'], 'plume': ['chesterton-thursday'], 'Life': ['chesterton-thursday'], 'fly': ['chesterton-thursday'], 'faded': ['chesterton-thursday'], 'drone': ['chesterton-thursday'], 'stung': ['chesterton-thursday'], 'indeed': ['chesterton-thursday', 'shakespeare-caesar'], 'young': ['chesterton-thursday'], 'Poems': ['blake-poems'], 'William': ['blake-poems', 'shakespeare-caesar'], 'Blake': ['blake-poems'], '1789': ['blake-poems'], 'SONGS': ['blake-poems', 'blake-poems'], 'OF': ['blake-poems', 'blake-poems', 'blake-poems'], 'INNOCENCE': ['blake-poems', 'blake-poems'], 'AND': ['blake-poems'], 'EXPERIENCE': ['blake-poems'], 'BOOK': ['blake-poems', 'whitman-leaves'], 'THEL': ['blake-poems'], 'INTRODUCTION': ['blake-poems'], 'Piping': ['blake-poems', 'blake-poems'], 'down': ['blake-poems', 'blake-poems'], 'valleys': ['blake-poems'], 'wild': ['blake-poems'], 'songs': ['blake-poems', 'blake-poems', 'blake-poems'], 'pleasant': ['blake-poems'], 'glee': ['blake-poems'], 'On': ['blake-poems'], 'child': ['blake-poems', 'blake-poems'], 'laughing': ['blake-poems'], 'me': ['blake-poems', 'shakespeare-caesar'], '\"': ['blake-poems', 'blake-poems', 'blake-poems', 'blake-poems'], 'Pipe': ['blake-poems'], 'about': ['blake-poems'], 'Lamb': ['blake-poems'], '!\"': ['blake-poems'], 'So': ['blake-poems', 'blake-poems', 'blake-poems', 'blake-poems'], 'piped': ['blake-poems', 'blake-poems'], 'merry': ['blake-poems'], 'cheer': ['blake-poems', 'blake-poems'], 'Piper': ['blake-poems', 'blake-poems'], 'pipe': ['blake-poems', 'blake-poems', 'blake-poems'], 'again': ['blake-poems', 'blake-poems'], ';\"': ['blake-poems'], 'wept': ['blake-poems', 'blake-poems'], 'hear': ['blake-poems', 'blake-poems', 'blake-poems'], 'Drop': ['blake-poems'], ':!\"': ['blake-poems'], 'same': ['blake-poems'], 'While': ['blake-poems'], 'joy': ['blake-poems', 'blake-poems'], 'write': ['blake-poems', 'whitman-leaves'], 'book': ['blake-poems'], 'may': ['blake-poems', 'blake-poems', 'shakespeare-caesar', 'whitman-leaves'], 'read': ['blake-poems'], '.\"': ['blake-poems'], 'vanish': ['blake-poems'], 'd': ['blake-poems', 'blake-poems', 'blake-poems', 'whitman-leaves'], 'sight': ['blake-poems'], 'pluck': ['blake-poems'], 'hollow': ['blake-poems'], 'reed': ['blake-poems'], 'made': ['blake-poems'], 'rural': ['blake-poems'], 'pen': ['blake-poems'], 'stain': ['blake-poems'], 'water': ['blake-poems'], 'clear': ['blake-poems'], 'wrote': ['blake-poems'], 'Every': ['blake-poems'], 'Tragedie': ['shakespeare-caesar'], 'Julius': ['shakespeare-caesar'], 'Caesar': ['shakespeare-caesar'], 'Shakespeare': ['shakespeare-caesar'], '1599': ['shakespeare-caesar'], 'Actus': ['shakespeare-caesar'], 'Primus': ['shakespeare-caesar'], 'Scoena': ['shakespeare-caesar'], 'Prima': ['shakespeare-caesar'], 'Enter': ['shakespeare-caesar'], 'Flauius': ['shakespeare-caesar', 'shakespeare-caesar'], 'Murellus': ['shakespeare-caesar'], 'certaine': ['shakespeare-caesar'], 'Commoners': ['shakespeare-caesar'], 'ouer': ['shakespeare-caesar'], 'Stage': ['shakespeare-caesar'], 'Hence': ['shakespeare-caesar'], 'idle': ['shakespeare-caesar'], 'Creatures': ['shakespeare-caesar'], 'get': ['shakespeare-caesar'], 'Is': ['shakespeare-caesar'], 'this': ['shakespeare-caesar'], 'Holiday': ['shakespeare-caesar'], '?': ['shakespeare-caesar', 'shakespeare-caesar', 'shakespeare-caesar', 'shakespeare-caesar', 'shakespeare-caesar', 'shakespeare-caesar', 'shakespeare-caesar'], 'What': ['shakespeare-caesar', 'shakespeare-caesar'], 'know': ['shakespeare-caesar'], '(': ['shakespeare-caesar', 'whitman-leaves', 'whitman-leaves', 'melville-moby_dick'], 'Being': ['shakespeare-caesar'], 'Mechanicall': ['shakespeare-caesar'], ')': ['shakespeare-caesar', 'melville-moby_dick'], 'ought': ['shakespeare-caesar'], 'walke': ['shakespeare-caesar'], 'Vpon': ['shakespeare-caesar'], 'labouring': ['shakespeare-caesar'], 'signe': ['shakespeare-caesar'], 'your': ['shakespeare-caesar'], 'Profession': ['shakespeare-caesar'], 'Speake': ['shakespeare-caesar'], 'what': ['shakespeare-caesar', 'shakespeare-caesar', 'shakespeare-caesar'], 'Trade': ['shakespeare-caesar', 'shakespeare-caesar', 'shakespeare-caesar', 'shakespeare-caesar'], 'thou': ['shakespeare-caesar', 'shakespeare-caesar', 'shakespeare-caesar'], 'Car': ['shakespeare-caesar'], 'Why': ['shakespeare-caesar'], 'Sir': ['shakespeare-caesar', 'shakespeare-caesar', 'shakespeare-caesar', 'shakespeare-caesar'], 'Carpenter': ['shakespeare-caesar'], 'Mur': ['shakespeare-caesar', 'shakespeare-caesar'], 'Where': ['shakespeare-caesar'], 'Leather': ['shakespeare-caesar'], 'Apron': ['shakespeare-caesar'], 'Rule': ['shakespeare-caesar'], 'dost': ['shakespeare-caesar'], 'Apparrell': ['shakespeare-caesar'], 'You': ['shakespeare-caesar'], 'sir': ['shakespeare-caesar'], 'are': ['shakespeare-caesar', 'whitman-leaves'], 'Cobl': ['shakespeare-caesar'], 'Truely': ['shakespeare-caesar'], 'respect': ['shakespeare-caesar'], 'fine': ['shakespeare-caesar'], 'Workman': ['shakespeare-caesar'], 'am': ['shakespeare-caesar'], 'would': ['shakespeare-caesar'], 'say': ['shakespeare-caesar'], 'Cobler': ['shakespeare-caesar'], 'But': ['shakespeare-caesar'], 'Answer': ['shakespeare-caesar'], 'directly': ['shakespeare-caesar'], 'Cob': ['shakespeare-caesar'], 'hope': ['shakespeare-caesar'], 'vse': ['shakespeare-caesar'], 'safe': ['shakespeare-caesar'], 'Conscience': ['shakespeare-caesar'], 'Mender': ['shakespeare-caesar'], 'bad': ['shakespeare-caesar'], 'soules': ['shakespeare-caesar'], 'Fla': ['shakespeare-caesar'], 'Leaves': ['whitman-leaves'], 'Grass': ['whitman-leaves'], 'Walt': ['whitman-leaves', 'whitman-leaves'], 'Whitman': ['whitman-leaves', 'whitman-leaves'], '1855': ['whitman-leaves'], 'Come': ['whitman-leaves'], 'Such': ['whitman-leaves'], 'verses': ['whitman-leaves', 'whitman-leaves'], 'Body': ['whitman-leaves', 'whitman-leaves'], 'let': ['whitman-leaves'], ',)': ['whitman-leaves', 'whitman-leaves'], 'should': ['whitman-leaves'], 'after': ['whitman-leaves'], 'return': ['whitman-leaves'], 'Or': ['whitman-leaves'], 'hence': ['whitman-leaves'], 'other': ['whitman-leaves'], 'spheres': ['whitman-leaves'], 'There': ['whitman-leaves'], 'group': ['whitman-leaves'], 'mates': ['whitman-leaves'], 'chants': ['whitman-leaves'], 'resuming': ['whitman-leaves'], 'Tallying': ['whitman-leaves'], 'Earth': ['whitman-leaves'], 'soil': ['whitman-leaves'], 'trees': ['whitman-leaves'], 'winds': ['whitman-leaves'], 'tumultuous': ['whitman-leaves'], 'waves': ['whitman-leaves'], 'Ever': ['whitman-leaves', 'whitman-leaves'], 'pleas': ['whitman-leaves'], 'smile': ['whitman-leaves'], 'keep': ['whitman-leaves'], 'ever': ['whitman-leaves', 'melville-moby_dick'], 'owning': ['whitman-leaves'], 'here': ['whitman-leaves'], 'now': ['whitman-leaves', 'melville-moby_dick'], 'Signing': ['whitman-leaves'], 'Soul': ['whitman-leaves'], 'set': ['whitman-leaves'], 'them': ['whitman-leaves'], 'name': ['whitman-leaves'], 'INSCRIPTIONS': ['whitman-leaves'], '}': ['whitman-leaves'], 'One': ['whitman-leaves', 'whitman-leaves'], 'Self': ['whitman-leaves'], 'self': ['whitman-leaves'], 'sing': ['whitman-leaves'], 'simple': ['whitman-leaves'], 'separate': ['whitman-leaves'], 'person': ['whitman-leaves'], 'Yet': ['whitman-leaves'], 'utter': ['whitman-leaves'], 'word': ['whitman-leaves', 'whitman-leaves'], 'Democratic': ['whitman-leaves'], 'En': ['whitman-leaves'], 'Masse': ['whitman-leaves'], 'Moby': ['melville-moby_dick'], 'Dick': ['melville-moby_dick'], 'Herman': ['melville-moby_dick'], 'Melville': ['melville-moby_dick'], '1851': ['melville-moby_dick'], 'ETYMOLOGY': ['melville-moby_dick'], 'Supplied': ['melville-moby_dick'], 'Late': ['melville-moby_dick'], 'Consumptive': ['melville-moby_dick'], 'Usher': ['melville-moby_dick', 'melville-moby_dick'], 'Grammar': ['melville-moby_dick'], 'School': ['melville-moby_dick'], 'pale': ['melville-moby_dick'], 'threadbare': ['melville-moby_dick'], 'coat': ['melville-moby_dick'], 'heart': ['melville-moby_dick'], 'body': ['melville-moby_dick'], 'brain': ['melville-moby_dick'], 'see': ['melville-moby_dick'], 'him': ['melville-moby_dick', 'melville-moby_dick'], 'He': ['melville-moby_dick', 'melville-moby_dick'], 'dusting': ['melville-moby_dick'], 'lexicons': ['melville-moby_dick'], 'grammars': ['melville-moby_dick', 'melville-moby_dick'], 'queer': ['melville-moby_dick'], 'handkerchief': ['melville-moby_dick'], 'mockingly': ['melville-moby_dick'], 'embellished': ['melville-moby_dick'], 'flags': ['melville-moby_dick'], 'known': ['melville-moby_dick'], 'nations': ['melville-moby_dick'], 'loved': ['melville-moby_dick'], 'dust': ['melville-moby_dick'], 'somehow': ['melville-moby_dick'], 'mildly': ['melville-moby_dick'], 'reminded': ['melville-moby_dick'], 'mortality': ['melville-moby_dick']})\n"
          ]
        }
      ],
      "source": [
        "#Provide here few comment lines that describe your map-reduce procedure\n",
        "\n",
        "\n",
        "\n",
        "\n",
        "def mapper_inv_index(input):\n",
        "    res = []\n",
        "    for book in input:\n",
        "        book_name = book[0].split(\".\")[0]\n",
        "        words = book[1].split(\" \")\n",
        "        for word in words:\n",
        "            res.append((word,book_name))\n",
        "    return res\n",
        "    #函数把书里的字拆开来，并且inverse了index\n",
        "\n",
        "\n",
        "def shuffler_inv_index(input):\n",
        "    dict = defaultdict(list)\n",
        "    for k, v in input:\n",
        "        dict[k].append(v)\n",
        "    return dict\n",
        "\n",
        "    #to complete with your code\n",
        "    #把列表变成字典\n",
        "\n",
        "def reducer_inv_index(dict):\n",
        "    res = []\n",
        "    for k in dict.keys():\n",
        "        res.append((k,len(dict[k])))        #len(dict[k]) 计算word出现的次数\n",
        "    return res\n",
        "\n",
        "print(shuffler_inv_index(mapper_inv_index(list(readData('books.json')))))   #分刺\n",
        "#print(mapper_inv_index(list(readData('books.json'))))                        #变成元祖\n",
        "#print(reducer_inv_index(shuffler_inv_index(mapper_inv_index(list(readData('books.json'))))))    #反转 "
      ]
    },
    {
      "cell_type": "markdown",
      "metadata": {
        "id": "4Isj-A4ySju_"
      },
      "source": [
        "Discuss what can be improved in the algorithm you provided and check which operations can be nice that a framework provides for you."
      ]
    },
    {
      "cell_type": "markdown",
      "metadata": {
        "id": "tpR4onNaLdmj"
      },
      "source": [
        "## <strong> Exercise 4 </strong>\n",
        "### Matrix Multiplication : the most challenging exercise of lab 1\n",
        "\n",
        "#### The input\n",
        "<p>\n",
        "<font size=\"3\">\n",
        "We want to define the MapReduce procedure to obtain the matrix $A \\times B$. Here you are not suppose to write code but just to think about the representation of the two matrix and to define the general description of the two procedures.\n",
        "</font>\n",
        "</p>\n",
        "\n",
        "<p>\n",
        "<font size=\"3\">\n",
        "We have as input:\n",
        "<ul>\n",
        "<li> $A$: an $n \\times m$ matrix\n",
        "<li> $B$: an $m \\times p$ matrix.\n",
        "</ul>\n",
        "The procedure returns the matrix obtained by multiplying the first and the second matrix.\n",
        "The multiplication can only be computed if the number of columns of $A$ equals the number of rows of $B$.\n",
        "</font>\n",
        "    \n",
        "</p>\n",
        "\n",
        "\n",
        "<p>\n",
        "Consider the following A matrix:\n",
        "<p>\n",
        "<center>\n",
        "  $A= \\begin{bmatrix}\n",
        "    1 & 2 & 4   \\\\\n",
        "    4 & 5 & 6\n",
        "\\end{bmatrix}$\n",
        "</center>\n",
        "</p>\n",
        "\n",
        "<p>\n",
        "Then consider the following B matrix:\n",
        "<p>\n",
        "<center>\n",
        "  $B= \\begin{bmatrix}\n",
        "    a & b    \\\\\n",
        "    c & d   \\\\\n",
        "    e & f\n",
        "\\end{bmatrix}$\n",
        "</center>\n",
        "</p>"
      ]
    },
    {
      "cell_type": "markdown",
      "metadata": {
        "id": "IVrc3WeeSjvA"
      },
      "source": [
        "### The matrix representation\n",
        "<p>\n",
        "<font size=\"3\">\n",
        "Since we are in a MapReduce context can represent these two matrix as a set of key-value pairs, where\n",
        "<ul>\n",
        "<li> the key is the coordinate <code>(row identifier, column identifier)</code> of an element</li>\n",
        "<li> and the value is the <code>element</code> itself.</li>\n",
        "</ul>\n",
        "\n",
        "Remember that in a program you manipulate data and you are free to chose how to represent data. The matrix representation is the starting point for defining your matrix representation in the following part of the exercise.\n",
        "</font>\n",
        "</p>\n",
        "\n",
        "<p>\n",
        "<font size=\"3\">\n",
        "For the matrix A we will have: <font size=\"4\"><code>( (0, 0), 1 ), ( (0, 1), 2 ), ( (0, 2), 4 ), ( (1, 0), 4 ), ( (1, 1), 5 ), ( (1, 2), 6 )</code></font>\n",
        "    \n",
        "For the matrix B we will have: <font size=\"4\"><code>( (0, 0), a ), ( (0, 1), b ), ( (1, 0), c ), ( (1, 1), d ), ( (2, 0), e ), ( (2, 1), f )</code></font>\n",
        "\n",
        "</font>\n",
        "</p>\n",
        "\n",
        "<hr>\n",
        "\n"
      ]
    },
    {
      "cell_type": "markdown",
      "metadata": {
        "id": "rKxijDgIA6jH"
      },
      "source": [
        "### How each element of the C matrix is calculated\n",
        "\n",
        "<p>\n",
        "<font size=\"3\">\n",
        "The result of the matrix multiplication will be a matrix $C = A \\times B$ is a $n \\times p$ matrix, where each element $c_{i, k}$ is computed as\n",
        "follows:\n",
        "<center>\n",
        "  $c_{i, k} = \\sum\\limits_{j=0}^{m-1} a_{i, j} \\cdot b_{j, k} \\quad\\quad (1)$\n",
        "</center>\n",
        "</font>\n",
        "</p>\n",
        "\n",
        "<p>\n",
        "<center>\n",
        "  $C= \\begin{bmatrix}\n",
        "    1a + 2c + 4e & 1b + 2d + 4f   \\\\\n",
        "    4a + 5c + 6e & 4b + 5d + 6f   \\\\\n",
        "\\end{bmatrix}$\n",
        "</center>\n",
        "</p>\n",
        "\n",
        "\n",
        "\n",
        "<p>\n",
        "<font size=\"3\">\n",
        "\n",
        "As you can see, for a given $(i, k)$, the element of $A$ that is in the j-th column is multiplied by the value of $B$ that is in the j-th row, for any column $j$.\n",
        "   \n",
        "    \n",
        "\n",
        "    \n",
        "    \n",
        "For example the element <font size=\"4\"><code>C(0,0) = A(0,0) B(0,0) + A(0,1) B(1,0) + A(0,2) B(2,0)</code></font> where $j = 0, 1, 2$ respectively\n",
        "</font>\n",
        "</p>\n"
      ]
    },
    {
      "cell_type": "markdown",
      "metadata": {
        "id": "UoEHiehY5f7N"
      },
      "source": [
        "### Changing again the representation of A and B\n",
        "\n",
        "<p>\n",
        "<font size=\"3\">\n",
        "Therefore, we can change the representation of $A$ and $B$ so that their elements are indexed by using $j$ as the key. The $j$ will be used to correctly group the elements to run the map and reduce functions.\n",
        "\n",
        "<br>\n",
        "\n",
        "<font size=\"3\">    \n",
        "Remember that the element <font size=\"5\"><code> C(0,0) </code></font> is computed according to $j = 0$, $ j = 1 $, $j = 2$, $k = 0$, and $i = 0$ .\n",
        "</font>\n",
        "</font>\n",
        "</p>\n",
        "\n",
        "<p>\n",
        "<font size=\"3\">\n",
        "More specifically, we can represent the matrix $A$ as follows:\n",
        "<center>    \n",
        "    $(j, (0, i, a_{i, j})) \\quad 0 \\leq i \\leq n-1 \\quad 0 \\leq j \\leq m-1  \\quad\\quad (2)$\n",
        "</center>\n",
        "\n",
        "\n",
        "Since we must still be able to identify to which input matrix each value belongs to, we must add a marker in the representation. In this example we choose the value $0$ in the triple $(0, i, a_{i, j})$ meaning that the element $a_{i, j}$ comes from the matrix $A$.\n",
        "    \n",
        "Notice that in this example we can think that $(j, (0, i, a_{i, j}))$ is a key-value pair where the key is $j$ and the value is $(0, i, a_{i, j})$\n",
        "</font>\n",
        "</p>\n",
        "\n",
        "<p>\n",
        "<font size=\"3\">\n",
        "For the matrix A we will then have: <font size=\"4\"><code>( 0, (0, 0, 1 )), ( 1, (0, 0, 2 )), ( 2, (0, 0, 4 )), ( 0, (0, 1, 4 )), ( 1, (0, 1, 5 ), ( 2, (0, 1, 6 ))</code></font>\n",
        "</font>\n",
        "</p>\n",
        "\n",
        "<p>\n",
        "<font size=\"3\">\n",
        "Similarly, we can represent the matrix $B$ as follows:\n",
        "<center>    \n",
        "    $(j, (1, k, b_{j, k})) \\quad 0 \\leq j \\leq m-1 \\quad 0 \\leq k \\leq p-1 \\quad\\quad (3) $\n",
        "</center>    \n",
        "even in this case the value $1$ in the triple $(1, k, b_{j, k})$ means that the element $b_{j, k}$ comes from the matrix $B$.\n",
        "</font>\n",
        "</p>\n",
        "\n",
        "<p>\n",
        "<font size=\"3\">\n",
        "For the matrix B we will then have: <font size=\"4\"><code>( 0, (1, 0, a )), ( 0, (1, 1, b )), ( 1, (1, 0, c )), ( 1, (1, 1, d )), ( 2, (1, 0, e ), ( 2, (1, 1, f ))</code></font>\n",
        "</font>\n",
        "</p>\n",
        "\n"
      ]
    },
    {
      "cell_type": "markdown",
      "metadata": {
        "id": "nvtiq2xwGmzz"
      },
      "source": [
        "## Grouping according to <code>j</code>\n",
        "\n",
        "\n",
        "<p>\n",
        "<font size=\"3\">\n",
        "Now we can group the values obtained above by their key $j$.\n",
        "    \n",
        "We will have:\n",
        "<ol>\n",
        "    <li> <code>( 0, (0, 0, 1 )), ( 0, (0, 1, 4 )), ( 0, (1, 0, a )), ( 0, (1, 1, b ))</code></li>\n",
        "    <li> <code>( 1, (0, 0, 2 )), ( 1, (0, 1, 5 )), ( 1, (1, 0, c )), ( 1, (1, 1, d ))</code></li>\n",
        "    <li> <code>( 2, (0, 0, 4 )), ( 2, (0, 1, 6 )), ( 2, (1, 0, e )), ( 2, (1, 1, f ))</code></li>\n",
        "</ol>\n",
        "</font>\n",
        "</p>\n",
        "\n",
        "<p>\n",
        "<font size=\"3\">\n",
        "As we have seen each element can be seen as a key-value pair, where the key is the index $j$ and the value is a triple corresponding to the elements of matrix $A$ in the $j-$th column  and the elements of matrix $B$  in the $j-$row, as follows:\n",
        "<p>\n",
        "<font size=\"3\">\n",
        "<center>\n",
        "$(0, i, a_{i, j})\\ 0 \\leq i \\leq n-1 \\quad (1, k, b_{j, k})\\ 0 \\leq k \\leq p-1$\n",
        "</center>\n",
        "</p>\n",
        "<p>\n",
        "<font size=\"3\">\n",
        "Remember that all triples corresponding to matrix $A$ have 0 as their first value, while those corresponding to matrix $B$ have 1.\n",
        "</p>\n",
        "<p>\n",
        "From Equation (1), you can see that the product $a_{i, j} \\cdot b_{j, k}$ contributes to the value $c_{i, k}$, for $0 \\leq i \\leq n-1$ and $0 \\leq k \\leq p-1$.\n",
        "Therefore, given the triple, we associate each value $a_{i, j} \\cdot b_{j, k}$  with the pair $(i, k)$.\n",
        "</p>\n",
        "<p>\n",
        "Each element is a key-value pair, where the key is $(i, k)$ and the value is $a_{i, j} \\cdot b_{j, k}$.\n",
        "</p>\n",
        "    \n",
        "    \n",
        "<p>\n",
        "<font size=\"3\">\n",
        "\n",
        "We will have:\n",
        "<font size=\"3\">\n",
        "\n",
        "<ol>    \n",
        "    <li> <code>((0,0), (1a)), ((0,1), (1b)), ((1,0), (4a)), ((1,1), (4b))</code></li>\n",
        "    <li> <code>((0,0), (2c)), ((0,1), (2d)), ((1,0), (5c)), ((1,1), (5d))</code></li>\n",
        "    <li> <code>((0,0), (4e)), ((0,1), (6f)), ((1,0), (6e)), ((1,1), (6f))</code></li>\n",
        "\n",
        "</ol>\n",
        "</font>\n",
        "</p>\n",
        "    \n"
      ]
    },
    {
      "cell_type": "markdown",
      "metadata": {
        "id": "oa2TsNaKLCqT"
      },
      "source": [
        "## Re-distributing and sum-up\n",
        "\n",
        "<p>\n",
        "<font size=\"3\">\n",
        "\n",
        "Now we can group the elements, where each element is a pair $((i, k), a_{i, j} \\cdot b_{j, k})$, $0 \\leq i \\leq n-1$ and $0 \\leq k \\leq p-1$.  \n",
        "\n",
        "<font size=\"3\">\n",
        "\n",
        "<ol>\n",
        "    <li> <code>((0,0), (1a)), ((0,0), (2c)), ((0,0), (4e)) </code></li>\n",
        "    <li> <code>((0,1), (1b)), ((0,1), (2d)), ((0,1), (6f)) </code></li>\n",
        "    <li> <code>((1,0), (4a)), ((1,0), (5c)), ((1,0), (6e)) </code></li>\n",
        "    <li> <code>((1,1), (4b)), ((1,1), (5d)), ((1,1), (6f)) </code></li>\n",
        "</ol>\n",
        "</font>  \n",
        "</p>\n",
        "\n",
        "\n",
        "\n",
        "\n",
        "\n",
        "<p>\n",
        "<font size=\"3\">\n",
        "From Equation (1), we can see that each $c_{i, k}$ is obtained by summing up the products $a_{i, j} \\cdot b_{j, k}$, $0 \\leq j \\leq m-1$.\n",
        "<p>\n",
        "Therefore, in order to obtain the matrix $C = A \\times B$, the only thing that we need to do is to sum all\n",
        "values $a_{i, j} \\cdot b_{j, k}$ associated with the same key $(i, k)$.\n",
        "</p>\n",
        "</font>\n",
        "</p>\n",
        "\n",
        "<p>\n",
        "<center>\n",
        "  $C= \\begin{bmatrix}\n",
        "    1a + 2c + 4e & 1b + 2d + 4f   \\\\\n",
        "    4a + 5c + 6e & 4b + 5d + 6f   \\\\\n",
        "\\end{bmatrix}$\n",
        "</center>\n",
        "</p>\n"
      ]
    },
    {
      "cell_type": "markdown",
      "metadata": {
        "id": "XzH2g8qafmym"
      },
      "source": [
        "### <strong>Questions</strong>\n",
        "####Given the provided algorithm write here a description of a MapReduce procedure implementing the matrix product.\n",
        "\n",
        "#### Detail the MapReduce steps\n",
        "\n",
        "#### How many MapReduce rounds do you need?\n",
        "\n",
        "\n",
        "---\n",
        "\n",
        "\n"
      ]
    },
    {
      "cell_type": "code",
      "execution_count": null,
      "metadata": {
        "id": "gp6dKw6EfktL"
      },
      "outputs": [],
      "source": [
        "#Provide here the python code of the MapReduce procedure you just described.\n"
      ]
    }
  ],
  "metadata": {
    "anaconda-cloud": {},
    "colab": {
      "provenance": []
    },
    "kernelspec": {
      "display_name": "Python 3.8.5 ('base')",
      "language": "python",
      "name": "python3"
    },
    "language_info": {
      "codemirror_mode": {
        "name": "ipython",
        "version": 3
      },
      "file_extension": ".py",
      "mimetype": "text/x-python",
      "name": "python",
      "nbconvert_exporter": "python",
      "pygments_lexer": "ipython3",
      "version": "3.8.5"
    },
    "name": "BE4-Spark.ipynb",
    "vscode": {
      "interpreter": {
        "hash": "fd75362e27048f1ead3b65beb4812b1da3d387150557ce53b099093c32022a5e"
      }
    }
  },
  "nbformat": 4,
  "nbformat_minor": 0
}
