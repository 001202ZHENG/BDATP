{
  "cells": [
    {
      "cell_type": "markdown",
      "metadata": {
        "ein.tags": [
          "worksheet-0"
        ],
        "id": "eOeG1er1Sjum"
      },
      "source": [
        "<h6><center>Big Data Algorithms Techniques & Platforms</center></h6>\n",
        "\n",
        "<h1>\n",
        "<hr style=\" border:none; height:3px;\">\n",
        "<center>Lab Assignment 1: Introduction to MapReduce</center>\n",
        "<hr style=\" border:none; height:3px;\">\n",
        "</h1>\n",
        "\n",
        "\n",
        "# First Part : Introduction - The MapReduce programming model\n",
        "\n",
        "\n",
        "MapReduce is a programming model useful in for big data processing and allows running a parallel and distributed  algorithm on a cluster. \n",
        "\n",
        "A MapReduce algorithm following the MapReduce programming model is composed of:\n",
        "<ul>\n",
        "    <li> a <strong> map </strong>function, which performs a first set of operations on the input data and, usually, produces a set of <strong>key-value</strong> pairs as output;  </li>\n",
        "    <li> a <strong>reduce</strong> function, which performs an operation on data usually coming as output from the <strong> map </strong> function somehow grouped on the basis of the key.</li>\n",
        "</ul>\n",
        "\n",
        "<hr>\n",
        "\n",
        "The MapReduce algorithm can be run on a framework (i.e. Hadoop). In this case the framework will handle the process of\n",
        "running the algorithm on the distributed architecture executing the various tasks in parallel, managing all communications and data transfers between the various parts of the system, and providing for redundancy and fault tolerance. The <code>map()</code> function and the <code>reduce()</code> function will then become <strong>independent procedures</strong> running in multiple instances in parallel.\n",
        "\n",
        "The map and the reduce procedures can be seen then as two main functions: <code>map()</code> et <code>reduce()</code>.\n",
        "\n",
        "### The Map function - how to code it\n",
        "\n",
        "In general the <code>map()</code> function is seen as a function that:\n",
        "<ul>\n",
        "    <li> takes as input one (or a series, set, etc.) key-value pair(s);  </li>\n",
        "    <li> processes each key-value pair according to the procedure it implements;</li>\n",
        "    <li> generates as output zero, one or more key-value pairs.</li>\n",
        "</ul>\n",
        "\n",
        "It is important to notice that:\n",
        "<ul>\n",
        "    <li> if the input data is composed by single values each single value can be seen as a key-value pair having an empty value;  </li>\n",
        "    <li> the types of the input key-value pair and the output key-value pair(s) can be (and often are) different from each other;</li>\n",
        "    <li> the output key-value pair (or key-value pairs) can have a dummy key;</li>\n",
        "    <li> also the output key-value pair can have an empty/dummy value.</li>\n",
        "</ul>\n",
        "\n",
        "<hr>\n",
        "\n",
        "In the example shown in the slides the application is counting the number of occurrences of each word in the provided file. The map function would take as input a single line. This single line can be seen as a key-value pair having as key the whole line and as value an empty value. The map function will break the line into words and output a key-value pair for each word. The key will be the string representing the word and the value will be the integer 1.\n",
        "\n",
        "\n",
        "### The Shuffle function - how to code it\n",
        "Between the <code>map()</code> and <code>reduce()</code> functions, the data are shuffled in order to move together data sharing the same key.\n",
        "Data will be then processed by the <code>reduce()</code> function.\n",
        "When you run a MapReduce procedure on a framework the shuffle operation is fully and transparently handled by the framework. This means that the coding of this function can be skipped.\n",
        "\n",
        "<hr>\n",
        "\n",
        "In the example the shuffle operation is going to put together the key-value pairs sharing the same key, then all the key-value pairs that share the same word.\n",
        "\n",
        "\n",
        "### The Reduce function - how to code it\n",
        "The <code>reduce()</code> function applies a procedure on all the pairs that share the same key.  \n",
        "\n",
        "It is important to notice that:\n",
        "<ul>\n",
        "    <li> the reduce function produces zero or more outputs for each <strong>group</strong> of key-value pairs  </li>\n",
        "    <li> the type of the output can be different from the input and can be also one or a set of key-value pair(s);</li>\n",
        "    <li> even in this case the key-value pair can have an empty/dummy value.</li>\n",
        "</ul>\n",
        "\n",
        "<hr>\n",
        "\n",
        "In the word count example, the reduce function takes the input values, sums them, and generates a single output containing a set of key-value pairs having as key the value of each word and as value the final sum.\n",
        "\n",
        "Notice that the global result is composed of all the counts made by the different reduce instances. We can think a set of different reduce instances that are processing in parallel data. The last step will group the partial result and will give the final count.\n",
        "\n",
        "\n",
        "\n"
      ]
    },
    {
      "cell_type": "markdown",
      "metadata": {
        "id": "U0PufSejrRa2"
      },
      "source": [
        "# <strong>Example</strong>\n",
        "### Counting global number of integers\n",
        "\n",
        "\n",
        "As first step you have as input some integers that are stored in multiple lists.\n",
        "\n",
        "Suppose that you have as input these lists:\n",
        "\n",
        "<code>\n",
        "a = [1, 2, 4.3, 3] <br>\n",
        "b = [4, 5, 1.2, 6, 7] <br>\n",
        "c = [8, 9, 5.2, 1, 2, 3] <br>\n",
        "</code>\n",
        "\n",
        "A possible solution can run two steps:\n",
        "\n",
        "<ul>\n",
        "    <li> a <code>map()</code> function that verifies if a number is an integer and *gives* as output a key-value pair for each integer in each list; </li>\n",
        "<code>\n",
        "(_,1), (_,1), (_,1) <br>\n",
        "(_,1), (_,1), (_,1), (_,1) <br>\n",
        "(_,1), (_,1), (_,1), (_,1), (_,1) <br>\n",
        "</code>\n",
        "with the dummy key \"_\".\n",
        "    <li> a <code>reduce()</code> function that adds the partial results coming from the map (using the dummy key) and returns 12.</li>\n",
        "</ul>\n",
        "\n",
        "### Improved counting global number of integers\n",
        "\n",
        "A possible solution can run two steps:\n",
        "\n",
        "<ul>\n",
        "    <li> a <code>map()</code> function that verifies if a number is an integer and *gives* as output the number of integer elements in each list; </li>\n",
        "<code>\n",
        "(_,3) <br>\n",
        "(_,4) <br>\n",
        "(_,5) <br>\n",
        "</code>\n",
        "with the dummy key \"_\".\n",
        "    <li> a <code>reduce()</code> function that adds the partial results coming from the map (using the dummy key) and returns 12.</li>\n",
        "</ul>\n",
        "\n",
        "Notice that in this case the map function is checking and counting for each list.\n",
        "\n",
        "\n"
      ]
    },
    {
      "cell_type": "markdown",
      "metadata": {
        "id": "NXzeI3L-vrJk"
      },
      "source": [
        "#Exercises\n",
        "\n",
        "In this first series of exercises we will learn how to write programs according to the MapReduce paradigm.\n",
        "\n",
        "##Important\n",
        "For this lab <strong> do not use </strong> the native functions <code>map()</code> and <code> reduce()</code> of Python."
      ]
    },
    {
      "cell_type": "markdown",
      "metadata": {
        "id": "KTePkMCiSjun"
      },
      "source": [
        "## <strong> Exercise 1 </strong>\n",
        "### Counting even and odd numbers\n",
        "\n",
        "\n",
        "\n",
        "\n",
        "\n",
        "<p align=\"justify\">\n",
        "<font size=\"3\">\n",
        "Suppose that we have a file that contains multiple lines of integers. We must find how many even and how many odd numbers are present in the file.\n",
        "\n",
        "We can implement a MapReduce procedure.\n",
        "\n",
        "\n",
        "<ol>\n",
        "    <li> Define a map function that for each odd number produces a key-value pair <code>(o,1)</code> and for each even number produces <code>(e,1)</code>.</li>\n",
        "    <li> Define a reduce function that adds the values. </li>\n",
        "  </ol>\n",
        "</font>\n",
        "</p>\n",
        "\n",
        "\n",
        "\n",
        "### Step 1 - <code>map()</code>\n",
        "\n",
        "\n",
        "<p align=\"justify\">\n",
        "<font size=\"3\">\n",
        "We can encode each line of the document as a list of integers.\n",
        "The map function will then take as input this list of integers and we are going to define a Python function that generates, given a list of integer, a pair <code>(o,1)</code> for each odd number and a pair <code>(e,1)</code> for each even number.  \n",
        "\n",
        "Suppose that the file contains the following lines:\n",
        "<font size=\"4\">\n",
        "```\n",
        "1 2 3 3\n",
        "\n",
        "3 4 4\n",
        "\n",
        "5 6 7\n",
        "\n",
        "9 8 7 4\n",
        "```\n",
        "</font>\n",
        "In this example for the first line we will have\n",
        "\n",
        "<code>(o,1), (e,1), (o,1), (o,1)</code>\n",
        "\n",
        "For the second line:\n",
        "\n",
        "<code>(o,1), (e,1), (e,1)</code>\n",
        "\n",
        "etc.\n",
        "\n",
        "In order to read the line you can use the function <code>array_reader</code> that takes as input a file name and reads the file:\n",
        "\n",
        "</font>\n",
        "</p>\n",
        "\n",
        "\n"
      ]
    },
    {
      "cell_type": "code",
      "execution_count": 4,
      "metadata": {
        "id": "CiNbPu4uhOlu"
      },
      "outputs": [
        {
          "name": "stdout",
          "output_type": "stream",
          "text": [
            "Archive:  files_td1.zip\n",
            "replace files_td1/numbers.txt? [y]es, [n]o, [A]ll, [N]one, [r]ename: "
          ]
        }
      ],
      "source": [
        "!unzip files_td1.zip\n"
      ]
    },
    {
      "cell_type": "code",
      "execution_count": null,
      "metadata": {
        "id": "EBoKOEIpAuZK"
      },
      "outputs": [],
      "source": [
        "# This is an array_reader function\n",
        "# input: the finename to be read\n",
        "# output: a list containing a list of numbers for each line\n",
        "def array_reader(filename):\n",
        "    numbers = [line.strip() for line in open(filename)]\n",
        "    newnumbers = []\n",
        "    for ln in numbers :\n",
        "        newnumbers.append([int(i) for i in ln.split(\" \")])\n",
        "    return (newnumbers)"
      ]
    },
    {
      "cell_type": "code",
      "execution_count": null,
      "metadata": {
        "id": "trRDY4haSjuo"
      },
      "outputs": [
        {
          "ename": "FileNotFoundError",
          "evalue": "[Errno 2] No such file or directory: 'numbers.txt'",
          "output_type": "error",
          "traceback": [
            "\u001b[0;31m---------------------------------------------------------------------------\u001b[0m",
            "\u001b[0;31mFileNotFoundError\u001b[0m                         Traceback (most recent call last)",
            "Cell \u001b[0;32mIn [3], line 15\u001b[0m\n\u001b[1;32m     12\u001b[0m         pairs\u001b[38;5;241m.\u001b[39mappend(out_l)\n\u001b[1;32m     13\u001b[0m     \u001b[38;5;28;01mreturn\u001b[39;00m (pairs)\n\u001b[0;32m---> 15\u001b[0m array_numbers \u001b[38;5;241m=\u001b[39m array_reader(\u001b[38;5;124m\"\u001b[39m\u001b[38;5;124mnumbers.txt\u001b[39m\u001b[38;5;124m\"\u001b[39m)\n\u001b[1;32m     16\u001b[0m \u001b[38;5;28mprint\u001b[39m(array_numbers)\n\u001b[1;32m     17\u001b[0m res \u001b[38;5;241m=\u001b[39m map_odd_even_sol(array_numbers)\n",
            "Cell \u001b[0;32mIn [2], line 5\u001b[0m, in \u001b[0;36marray_reader\u001b[0;34m(filename)\u001b[0m\n\u001b[1;32m      4\u001b[0m \u001b[38;5;28;01mdef\u001b[39;00m \u001b[38;5;21marray_reader\u001b[39m(filename):\n\u001b[0;32m----> 5\u001b[0m     numbers \u001b[38;5;241m=\u001b[39m [line\u001b[38;5;241m.\u001b[39mstrip() \u001b[38;5;28;01mfor\u001b[39;00m line \u001b[38;5;129;01min\u001b[39;00m \u001b[38;5;28;43mopen\u001b[39;49m\u001b[43m(\u001b[49m\u001b[43mfilename\u001b[49m\u001b[43m)\u001b[49m]\n\u001b[1;32m      6\u001b[0m     newnumbers \u001b[38;5;241m=\u001b[39m []\n\u001b[1;32m      7\u001b[0m     \u001b[38;5;28;01mfor\u001b[39;00m ln \u001b[38;5;129;01min\u001b[39;00m numbers :\n",
            "\u001b[0;31mFileNotFoundError\u001b[0m: [Errno 2] No such file or directory: 'numbers.txt'"
          ]
        }
      ],
      "source": [
        "# Provide here few comment lines that describe your map function\n",
        "\n",
        "def map_odd_even_sol(array):\n",
        "    pairs = []\n",
        "    for l in array:\n",
        "        out_l = []\n",
        "        for num in l:\n",
        "            if num%2 ==0:\n",
        "                out_l.append((\"e\",1))\n",
        "            else:\n",
        "                out_l.append((\"o\",1))\n",
        "        pairs.append(out_l)\n",
        "    return (pairs)\n",
        "\n",
        "array_numbers = array_reader(\"numbers.txt\")\n",
        "print(array_numbers)\n",
        "res = map_odd_even_sol(array_numbers)\n",
        "print(res)"
      ]
    },
    {
      "cell_type": "markdown",
      "metadata": {
        "id": "jFrNBM1PSjus"
      },
      "source": [
        "How can we improve our function?"
      ]
    },
    {
      "cell_type": "code",
      "execution_count": null,
      "metadata": {
        "id": "finq5FnBSjus"
      },
      "outputs": [
        {
          "name": "stdout",
          "output_type": "stream",
          "text": [
            "[[('o', 1), ('e', 1), ('o', 1), ('o', 1)], [('o', 1), ('e', 1), ('e', 1)], [('o', 1), ('e', 1), ('o', 1)], [('o', 1), ('e', 1), ('o', 1), ('e', 1)]]\n"
          ]
        }
      ],
      "source": [
        "# Provide here few comment lines that describe your map function\n",
        "\n",
        "def map_odd_even_simple_sol(array):\n",
        "    res = []\n",
        "    for l in array:\n",
        "        res.append([(\"e\",1) if num%2==0 else (\"o\",1) for num in l])\n",
        "\n",
        "    return res\n",
        "\n",
        "array_numbers = array_reader(\"numbers.txt\")\n",
        "res = map_odd_even_simple_sol(array_numbers)\n",
        "print(res)"
      ]
    },
    {
      "cell_type": "markdown",
      "metadata": {
        "id": "iqa7Q8TASjuu"
      },
      "source": [
        "### Step 2 - <code>shuffle()</code>\n",
        "\n",
        "<p align=\"justify\">\n",
        "<font size=\"3\">\n",
        "Here we are going to define a functions that groups the pairs according to the values of the key.\n",
        "\n",
        "We have a list of list of pairs:\n",
        "\n",
        "<code>[[(o, 1), (e, 1), (o,1), (e,1)], [(o, 1),(e,1),(e,1)], [(o, 1), (e, 1), (o,1)], [(o, 1), (e, 1), (o,1), (e,1)]]</code>\n",
        "\n",
        "and we have to create two lists of pairs:\n",
        "\n",
        "<code>[[(o, 1), (o, 1), (o, 1), (o, 1), (o, 1), (o, 1), (o, 1)], [(e, 1), (e, 1), (e, 1), (e, 1), (e, 1), (e, 1), (e, 1)]]</code>\n",
        "\n",
        "</font>\n",
        "</p>\n",
        "\n"
      ]
    },
    {
      "cell_type": "code",
      "execution_count": null,
      "metadata": {
        "id": "YA5It5kQSjuv",
        "scrolled": true
      },
      "outputs": [
        {
          "name": "stdout",
          "output_type": "stream",
          "text": [
            "[[('o', 1), ('o', 1), ('o', 1), ('o', 1), ('o', 1), ('o', 1), ('o', 1), ('o', 1)], [('e', 1), ('e', 1), ('e', 1), ('e', 1), ('e', 1), ('e', 1)]]\n"
          ]
        }
      ],
      "source": [
        "#Provide here few comment lines that describe your shuffle function\n",
        "\n",
        "\n",
        "def shuffle_odd_even_sol(pairs):\n",
        "    odd = []\n",
        "    even = []\n",
        "    \n",
        "    for l in pairs:\n",
        "        for pair in l:\n",
        "            if pair[0] == \"e\":\n",
        "                even.append(pair)\n",
        "            else:\n",
        "                odd.append(pair)\n",
        "    result = []\n",
        "    result.append(odd)\n",
        "    result.append(even)\n",
        "\n",
        "    # to complete with your code\n",
        "    return (result)\n",
        "\n",
        "res = shuffle_odd_even_sol(map_odd_even_sol(array_numbers))\n",
        "print(res)"
      ]
    },
    {
      "cell_type": "markdown",
      "metadata": {
        "id": "d_cZDMJbSjux"
      },
      "source": [
        "### Step 3 - <code>reduce()</code>\n",
        "\n",
        "<p align=\"justify\">\n",
        "<font size=\"3\">\n",
        "Here we are going to define the function that it is going to produce the final result.\n",
        "We are going to run the reduce function for each key (here for each different group, then twice).\n",
        "</font>\n",
        "</p>\n"
      ]
    },
    {
      "cell_type": "code",
      "execution_count": null,
      "metadata": {
        "id": "AZXx0VRVSjux",
        "scrolled": true
      },
      "outputs": [
        {
          "name": "stdout",
          "output_type": "stream",
          "text": [
            "[[1, 2, 3, 3], [3, 4, 4], [5, 6, 7], [9, 8, 7, 4]]\n",
            "[[('o', 1), ('e', 1), ('o', 1), ('o', 1)], [('o', 1), ('e', 1), ('e', 1)], [('o', 1), ('e', 1), ('o', 1)], [('o', 1), ('e', 1), ('o', 1), ('e', 1)]]\n",
            "[[('o', 1), ('o', 1), ('o', 1), ('o', 1), ('o', 1), ('o', 1), ('o', 1), ('o', 1)], [('e', 1), ('e', 1), ('e', 1), ('e', 1), ('e', 1), ('e', 1)]]\n",
            "None\n"
          ]
        }
      ],
      "source": [
        "#Provide here few comment lines that describe your reduce function\n",
        "\n",
        "\n",
        "def reduce_sol(pairs):\n",
        "    odds = (\"o\", len(pairs[0]))\n",
        "    evens = (\"e\", len(pairs[1]))\n",
        "    #to complete with your code\n",
        "\n",
        "#Provide here the code that calls your reduce function according to your implementation\n",
        "\n",
        "array_numbers = array_reader(\"numbers.txt\")\n",
        "print(array_numbers)\n",
        "res = map_odd_even_simple_sol(array_numbers)\n",
        "print(res)\n",
        "res = shuffle_odd_even_sol(res)\n",
        "print(res)\n",
        "res = reduce_sol(res)\n",
        "print(res)"
      ]
    },
    {
      "cell_type": "markdown",
      "metadata": {},
      "source": []
    },
    {
      "cell_type": "markdown",
      "metadata": {
        "id": "Rk34RU8JSjuz"
      },
      "source": [
        "## <strong>Exercise 2</strong>\n",
        "### A simple program for counting occurrences\n",
        "\n",
        "<p align=\"justify\">\n",
        "<font size=\"3\">\n",
        "Suppose now that we want to count the number of occurrences of each number as we did for the file containing words.\n",
        "<font size=\"4\">    \n",
        "\n",
        "```    \n",
        "1 2 3 4\n",
        "\n",
        "3 4 4\n",
        "\n",
        "5 6 7\n",
        "\n",
        "9 8 7 4\n",
        "```\n",
        "\n",
        "</font>\n",
        "</font>\n",
        "</p>\n",
        "\n",
        "\n",
        "\n",
        "\n",
        "<p align=\"justify\">\n",
        "<font size=\"3\">\n",
        "For our file we will have as result:\n",
        "    \n",
        "<code>[[1, 1], [2, 1], [3, 2], [4, 4], [5, 1], [6, 1], [7, 2], [8, 1], [9, 1]]</code>\n",
        "\n",
        "</font>\n",
        "</p>\n",
        "\n",
        "\n",
        "\n",
        "\n",
        "\n",
        "<p align=\"justify\">\n",
        "<font size=\"3\">\n",
        "We can go again step by step:\n",
        "\n",
        "\n",
        "\n",
        "<ol>\n",
        "<li> Define a function that produces pairs for each line </li>\n",
        "    <code>[(1, 1), (2, 1), (3, 1), (4, 1), (3, 1), (4, 1), (4,1), (5, 1), (6, 1), (7, 1), (9, 1), ...]</code>\n",
        "\n",
        "<li> define a function that shuffles and groups in general according to the key </li>\n",
        "    <code>[[[1, 1]], [[2, 1]], [[3, 1], [3, 1]], [[4, 1], [4, 1]], ...]</code>\n",
        "\n",
        "<li> define a function reduce that sums up the results </li>\n",
        "    <code>[[1, 1], [2, 1], [3, 2], [4, 4], [5, 1], [6, 1], [7, 2], [8, 1], [9, 1]]</code>\n",
        "\n",
        "</ol>\n",
        "We try to reuse the functions previously defined.\n",
        "</font>\n",
        "</p>\n",
        "\n",
        "\n",
        "\n",
        "### Step 1 - map()\n",
        "<p align=\"justify\">\n",
        "<font size=\"3\">\n",
        "We are going to define a Python function that generates, given a list of list of integers a pair (n,1) for each element\n",
        "of the list.\n",
        "\n",
        "\n",
        "<font size=\"4\">\n",
        "\n",
        "```\n",
        "1 2 3 4\n",
        "\n",
        "3 4 4\n",
        "\n",
        "5 6 7\n",
        "\n",
        "9 8 7 4\n",
        "```\n",
        "</font>\n",
        "</font>\n",
        "</p>\n",
        "<p align=\"justify\">\n",
        "<font size=\"3\">\n",
        "For the first line we will have:\n",
        "</font>\n",
        "</p>\n",
        "\n",
        "<code>(1,1), (2,1), (3,1), (4,1)</code>\n",
        "\n",
        "\n",
        "\n",
        "<p align=\"justify\">\n",
        "<font size=\"3\">\n",
        "For the second:\n",
        "</font>\n",
        "</p>\n",
        "\n",
        "<code>(3,1), (4,1), (4,1)</code>\n",
        "\n",
        "etc.\n",
        "\n"
      ]
    },
    {
      "cell_type": "code",
      "execution_count": null,
      "metadata": {
        "id": "ved9CtvMSju0",
        "scrolled": true
      },
      "outputs": [
        {
          "name": "stdout",
          "output_type": "stream",
          "text": [
            "[(1, 1), (2, 1), (3, 1), (3, 1), (3, 1), (4, 1), (4, 1), (5, 1), (6, 1), (7, 1), (9, 1), (8, 1), (7, 1), (4, 1)]\n"
          ]
        }
      ],
      "source": [
        "#Provide here few comment lines that describe your map function\n",
        "\n",
        "def map_num_counter_sol(array):\n",
        "    numPairs = []\n",
        "    for num in array:\n",
        "        numPairs.append((num,1))\n",
        "    return numPairs\n",
        "\n",
        "array_numbers = array_reader(\"numbers.txt\")\n",
        "res = []\n",
        "for line in array_numbers :\n",
        "  res += map_num_counter_sol(line)\n",
        "print(res)\n"
      ]
    },
    {
      "cell_type": "markdown",
      "metadata": {
        "id": "oe-FkbgCSju2",
        "scrolled": true
      },
      "source": [
        "\n",
        "### Step 2 - <code>shuffle()</code>\n",
        "\n",
        "<p align=\"justify\">\n",
        "<font size=\"3\">\n",
        "In this function we are going to group according to the integer in the key and we can store the result in a dictionary.\n",
        "</font>\n",
        "</p>\n",
        "\n"
      ]
    },
    {
      "cell_type": "code",
      "execution_count": null,
      "metadata": {
        "id": "gnHyNaXzSju2"
      },
      "outputs": [
        {
          "name": "stdout",
          "output_type": "stream",
          "text": [
            "defaultdict(<class 'list'>, {1: [1], 2: [1], 3: [1, 1, 1], 4: [1, 1, 1], 5: [1], 6: [1], 7: [1, 1], 9: [1], 8: [1]})\n"
          ]
        }
      ],
      "source": [
        "from collections import defaultdict\n",
        "\n",
        "#Provide here few comment lines that describe your shuffle function\n",
        "\n",
        "\n",
        "def shuffle_pairs_sol(input) :\n",
        "     # to complete with your code\n",
        "     d = defaultdict(list)\n",
        "     for k,v in input:\n",
        "          d[k].append(v)\n",
        "     return d\n",
        "\n",
        "res = shuffle_pairs_sol(res)\n",
        "print(res)"
      ]
    },
    {
      "cell_type": "markdown",
      "metadata": {
        "id": "lYM8qhAuSju5",
        "scrolled": true
      },
      "source": [
        "\n",
        "### Step 3 - <code>reduce()</code>\n",
        "\n",
        "<p align=\"justify\">\n",
        "<font size=\"3\">\n",
        "Here we are going to define a function that does the sum:\n",
        "</font>\n",
        "</p>\n",
        "\n"
      ]
    },
    {
      "cell_type": "code",
      "execution_count": null,
      "metadata": {
        "id": "4s7hYmDwSju5"
      },
      "outputs": [
        {
          "ename": "NameError",
          "evalue": "name 'res' is not defined",
          "output_type": "error",
          "traceback": [
            "\u001b[0;31m---------------------------------------------------------------------------\u001b[0m",
            "\u001b[0;31mNameError\u001b[0m                                 Traceback (most recent call last)",
            "Cell \u001b[0;32mIn [3], line 11\u001b[0m\n\u001b[1;32m      8\u001b[0m         res\u001b[38;5;241m.\u001b[39mappend((k,\u001b[38;5;28mlen\u001b[39m(\u001b[38;5;28mdict\u001b[39m[k])))\n\u001b[1;32m      9\u001b[0m     \u001b[38;5;28;01mreturn\u001b[39;00m res\n\u001b[0;32m---> 11\u001b[0m res \u001b[38;5;241m=\u001b[39m reduce_num_counter_sol(res)\n\u001b[1;32m     12\u001b[0m \u001b[38;5;28mprint\u001b[39m(res)\n",
            "\u001b[0;31mNameError\u001b[0m: name 'res' is not defined"
          ]
        }
      ],
      "source": [
        "#Provide here few comment lines that describe your reduce function\n",
        "\n",
        "def reduce_num_counter_sol(dict) :\n",
        "    res = []\n",
        "    #to complete with your code\n",
        "    \n",
        "    for k in dict.keys():\n",
        "        res.append((k,len(dict[k])))\n",
        "    return res\n",
        "\n",
        "res = reduce_num_counter_sol(res)\n",
        "print(res)"
      ]
    },
    {
      "cell_type": "markdown",
      "metadata": {
        "id": "mS8xi0BRSju7"
      },
      "source": [
        "## <strong> Exercise 3</strong>\n",
        "###  Inverted index\n",
        "\n",
        "<p align=\"justify\">\n",
        "<font size=\"3\">\n",
        "In this exercise, we want to create an inverted index. An inverted index is an index that associates each word to the list of the file names in which the word occurs in.\n",
        "</font>\n",
        "</p>\n",
        "\n",
        "<p align=\"justify\">\n",
        "<font size=\"3\">\n",
        "We are going to read the file <code>books.json</code>. This file contains some lines. Each line represents a different file containing a book.  We are going to provide you the function for reading this file. The function will ignore the detail of the representation of each book.\n",
        "</font>\n",
        "</p>\n",
        "\n",
        "\n",
        "\n",
        "### The function that reads the json file\n",
        "\n",
        "<p align=\"justify\">\n",
        "<font size=\"3\">\n",
        "Python provides functions for reading JSON files and producing <code>(dict, list)</code> for what has been read. The function reads the data stored in the book.json file\n",
        "\n",
        "Moreover the <code>yield()</code> instruction allows to code a generator that produces the data only when the function is called (the <code> yield </code> function can be seen as a <code>return</code>-once statement that moreover freezes the state of the execution till the next run).\n",
        "</font>\n",
        "</p>\n",
        "\n"
      ]
    },
    {
      "cell_type": "code",
      "execution_count": null,
      "metadata": {
        "id": "wN8-P1PUSju7"
      },
      "outputs": [
        {
          "name": "stdout",
          "output_type": "stream",
          "text": [
            "[['milton-paradise.txt', \"[ Paradise Lost by John Milton 1667 ] Book I Of Man ' s first disobedience , and the fruit Of that forbidden tree whose mortal taste Brought death into the World , and all our woe , With loss of Eden , till one greater Man Restore us , and regain the blissful seat , Sing , Heavenly Muse , that , on the secret top Of Oreb , or of Sinai , didst inspire That shepherd who first taught the chosen seed In the beginning how the heavens and earth Rose out of Chaos : or , if Sion hill Delight thee more , and Siloa ' s brook that flowed Fast by the oracle of God , I thence Invoke thy aid to my adventurous song , That with no middle flight intends to soar Above th ' Aonian mount , while it pursues Things unattempted yet in prose or rhyme .\"], ['edgeworth-parents.txt', \"[ The Parent ' s Assistant , by Maria Edgeworth ] THE ORPHANS . Near the ruins of the castle of Rossmore , in Ireland , is a small cabin , in which there once lived a widow and her four children . As long as she was able to work , she was very industrious , and was accounted the best spinner in the parish ; but she overworked herself at last , and fell ill , so that she could not sit to her wheel as she used to do , and was obliged to give it up to her eldest daughter , Mary .\"], ['austen-emma.txt', \"[ Emma by Jane Austen 1816 ] VOLUME I CHAPTER I Emma Woodhouse , handsome , clever , and rich , with a comfortable home and happy disposition , seemed to unite some of the best blessings of existence ; and had lived nearly twenty - one years in the world with very little to distress or vex her . She was the youngest of the two daughters of a most affectionate , indulgent father ; and had , in consequence of her sister ' s marriage , been mistress of his house from a very early period . Her mother had died too long ago for her to have more than an indistinct remembrance of her caresses ; and her place had been supplied by an excellent woman as governess , who had fallen little short of a mother in affection .\"], ['chesterton-ball.txt', '[ The Ball and The Cross by G . K . Chesterton 1909 ] I . A DISCUSSION SOMEWHAT IN THE AIR The flying ship of Professor Lucifer sang through the skies like a silver arrow ; the bleak white steel of it , gleaming in the bleak blue emptiness of the evening . That it was far above the earth was no expression for it ; to the two men in it , it seemed to be far above the stars . The professor had himself invented the flying machine , and had also invented nearly everything in it .'], ['bible-kjv.txt', '[ The King James Bible ] The Old Testament of the King James Bible The First Book of Moses : Called Genesis 1 : 1 In the beginning God created the heaven and the earth . 1 : 2 And the earth was without form , and void ; and darkness was upon the face of the deep . And the Spirit of God moved upon the face of the waters . 1 : 3 And God said , Let there be light : and there was light . 1 : 4 And God saw the light , that it was good : and God divided the light from the darkness . 1 : 5 And God called the light Day , and the darkness he called Night . And the evening and the morning were the first day .'], ['chesterton-thursday.txt', '[ The Man Who Was Thursday by G . K . Chesterton 1908 ] To Edmund Clerihew Bentley A cloud was on the mind of men , and wailing went the weather , Yea , a sick cloud upon the soul when we were boys together . Science announced nonentity and art admired decay ; The world was old and ended : but you and I were gay ; Round us in antic order their crippled vices came -- Lust that had lost its laughter , fear that had lost its shame . Like the white lock of Whistler , that lit our aimless gloom , Men showed their own white feather as proudly as a plume . Life was a fly that faded , and death a drone that stung ; The world was very old indeed when you and I were young .'], ['blake-poems.txt', '[ Poems by William Blake 1789 ] SONGS OF INNOCENCE AND OF EXPERIENCE and THE BOOK of THEL SONGS OF INNOCENCE INTRODUCTION Piping down the valleys wild , Piping songs of pleasant glee , On a cloud I saw a child , And he laughing said to me : \" Pipe a song about a Lamb !\" So I piped with merry cheer . \" Piper , pipe that song again ;\" So I piped : he wept to hear . \" Drop thy pipe , thy happy pipe ; Sing thy songs of happy cheer :!\" So I sang the same again , While he wept with joy to hear . \" Piper , sit thee down and write In a book , that all may read .\" So he vanish \\' d from my sight ; And I pluck \\' d a hollow reed , And I made a rural pen , And I stain \\' d the water clear , And I wrote my happy songs Every child may joy to hear .'], ['shakespeare-caesar.txt', '[ The Tragedie of Julius Caesar by William Shakespeare 1599 ] Actus Primus . Scoena Prima . Enter Flauius , Murellus , and certaine Commoners ouer the Stage . Flauius . Hence : home you idle Creatures , get you home : Is this a Holiday ? What , know you not ( Being Mechanicall ) you ought not walke Vpon a labouring day , without the signe Of your Profession ? Speake , what Trade art thou ? Car . Why Sir , a Carpenter Mur . Where is thy Leather Apron , and thy Rule ? What dost thou with thy best Apparrell on ? You sir , what Trade are you ? Cobl . Truely Sir , in respect of a fine Workman , I am but as you would say , a Cobler Mur . But what Trade art thou ? Answer me directly Cob . A Trade Sir , that I hope I may vse , with a safe Conscience , which is indeed Sir , a Mender of bad soules Fla .'], ['whitman-leaves.txt', \"[ Leaves of Grass by Walt Whitman 1855 ] Come , said my soul , Such verses for my Body let us write , ( for we are one ,) That should I after return , Or , long , long hence , in other spheres , There to some group of mates the chants resuming , ( Tallying Earth ' s soil , trees , winds , tumultuous waves ,) Ever with pleas ' d smile I may keep on , Ever and ever yet the verses owning -- as , first , I here and now Signing for Soul and Body , set to them my name , Walt Whitman [ BOOK I . INSCRIPTIONS ] } One ' s - Self I Sing One ' s - self I sing , a simple separate person , Yet utter the word Democratic , the word En - Masse .\"], ['melville-moby_dick.txt', '[ Moby Dick by Herman Melville 1851 ] ETYMOLOGY . ( Supplied by a Late Consumptive Usher to a Grammar School ) The pale Usher -- threadbare in coat , heart , body , and brain ; I see him now . He was ever dusting his old lexicons and grammars , with a queer handkerchief , mockingly embellished with all the gay flags of all the known nations of the world . He loved to dust his old grammars ; it somehow mildly reminded him of his mortality .']]\n"
          ]
        }
      ],
      "source": [
        "import json\n",
        "def readData(filename):\n",
        "    with open(filename, mode='r', encoding='utf-8') as file:\n",
        "        for line in file:\n",
        "            record = json.loads(line)\n",
        "            yield(record)\n",
        "print(list(readData('books.json')))"
      ]
    },
    {
      "cell_type": "markdown",
      "metadata": {
        "id": "Tg3-4LU_Sju9"
      },
      "source": [
        "<p align=\"justify\">\n",
        "<font size=\"3\">\n",
        "    \n",
        "You can store the output of the reading in a list where the first element of the list will be the file name and the second element will contain the title and the content of the book.\n",
        "    \n",
        "Now that you have the function that reads the file you can focus on the MapReduce procedure.\n",
        "    \n",
        "The expected output of the MapReduce procedure is a list [] that contains a set of <code>(w, L)</code> elements, where <code>w</code> is a word appearing in at least one text of the given books and <code>L</code> is the list of the names of the files containing <code>w</code> (without repetition).\n",
        "Given this book representation describe a possible implementation of the :\n",
        "    \n",
        "<ol>\n",
        "    <li> <code>map()</code> function that given the text produces a set of key-value pairs</li>\n",
        "    <li> <code>shuffle()</code> function that groups the key-value pairs according to a criteria </li>\n",
        "    <li> <code>reduce()</code> function that produces the final result</li>\n",
        "</ol>\n",
        "detailing all the actions that the <code>map()</code> function and a <code>reduce()</code> functions must perform.\n",
        "</font>"
      ]
    },
    {
      "cell_type": "code",
      "execution_count": null,
      "metadata": {
        "id": "fiSieoDPSju-"
      },
      "outputs": [
        {
          "name": "stdout",
          "output_type": "stream",
          "text": [
            "[('[', 11), ('Paradise', 1), ('Lost', 1), ('by', 12), ('John', 1), ('Milton', 1), ('1667', 1), (']', 11), ('Book', 2), ('I', 25), ('Of', 4), ('Man', 3), (\"'\", 12), ('s', 7), ('first', 4), ('disobedience', 1), (',', 101), ('and', 38), ('the', 58), ('fruit', 1), ('that', 13), ('forbidden', 1), ('tree', 1), ('whose', 1), ('mortal', 1), ('taste', 1), ('Brought', 1), ('death', 2), ('into', 1), ('World', 1), ('all', 4), ('our', 2), ('woe', 1), ('With', 1), ('loss', 1), ('of', 35), ('Eden', 1), ('till', 1), ('one', 3), ('greater', 1), ('Restore', 1), ('us', 3), ('regain', 1), ('blissful', 1), ('seat', 1), ('Sing', 3), ('Heavenly', 1), ('Muse', 1), ('on', 4), ('secret', 1), ('top', 1), ('Oreb', 1), ('or', 4), ('Sinai', 1), ('didst', 1), ('inspire', 1), ('That', 4), ('shepherd', 1), ('who', 2), ('taught', 1), ('chosen', 1), ('seed', 1), ('In', 3), ('beginning', 2), ('how', 1), ('heavens', 1), ('earth', 4), ('Rose', 1), ('out', 1), ('Chaos', 1), (':', 14), ('if', 1), ('Sion', 1), ('hill', 1), ('Delight', 1), ('thee', 2), ('more', 2), ('Siloa', 1), ('brook', 1), ('flowed', 1), ('Fast', 1), ('oracle', 1), ('God', 7), ('thence', 1), ('Invoke', 1), ('thy', 7), ('aid', 1), ('to', 20), ('my', 6), ('adventurous', 1), ('song', 3), ('with', 10), ('no', 2), ('middle', 1), ('flight', 1), ('intends', 1), ('soar', 1), ('Above', 1), ('th', 1), ('Aonian', 1), ('mount', 1), ('while', 1), ('it', 10), ('pursues', 1), ('Things', 1), ('unattempted', 1), ('yet', 2), ('in', 14), ('prose', 1), ('rhyme', 1), ('.', 46), ('The', 13), ('Parent', 1), ('Assistant', 1), ('Maria', 1), ('Edgeworth', 1), ('THE', 3), ('ORPHANS', 1), ('Near', 1), ('ruins', 1), ('castle', 1), ('Rossmore', 1), ('Ireland', 1), ('is', 3), ('a', 29), ('small', 1), ('cabin', 1), ('which', 2), ('there', 3), ('once', 1), ('lived', 2), ('widow', 1), ('her', 8), ('four', 1), ('children', 1), ('As', 1), ('long', 4), ('as', 7), ('she', 5), ('was', 16), ('able', 1), ('work', 1), ('very', 4), ('industrious', 1), ('accounted', 1), ('best', 3), ('spinner', 1), ('parish', 1), (';', 14), ('but', 3), ('overworked', 1), ('herself', 1), ('at', 1), ('last', 1), ('fell', 1), ('ill', 1), ('so', 1), ('could', 1), ('not', 3), ('sit', 2), ('wheel', 1), ('used', 1), ('do', 1), ('obliged', 1), ('give', 1), ('up', 1), ('eldest', 1), ('daughter', 1), ('Mary', 1), ('Emma', 2), ('Jane', 1), ('Austen', 1), ('1816', 1), ('VOLUME', 1), ('CHAPTER', 1), ('Woodhouse', 1), ('handsome', 1), ('clever', 1), ('rich', 1), ('comfortable', 1), ('home', 3), ('happy', 4), ('disposition', 1), ('seemed', 2), ('unite', 1), ('some', 2), ('blessings', 1), ('existence', 1), ('had', 9), ('nearly', 2), ('twenty', 1), ('-', 4), ('years', 1), ('world', 4), ('little', 2), ('distress', 1), ('vex', 1), ('She', 1), ('youngest', 1), ('two', 2), ('daughters', 1), ('most', 1), ('affectionate', 1), ('indulgent', 1), ('father', 1), ('consequence', 1), ('sister', 1), ('marriage', 1), ('been', 2), ('mistress', 1), ('his', 4), ('house', 1), ('from', 3), ('early', 1), ('period', 1), ('Her', 1), ('mother', 2), ('died', 1), ('too', 1), ('ago', 1), ('for', 5), ('have', 1), ('than', 1), ('an', 2), ('indistinct', 1), ('remembrance', 1), ('caresses', 1), ('place', 1), ('supplied', 1), ('excellent', 1), ('woman', 1), ('governess', 1), ('fallen', 1), ('short', 1), ('affection', 1), ('Ball', 1), ('Cross', 1), ('G', 2), ('K', 2), ('Chesterton', 2), ('1909', 1), ('A', 3), ('DISCUSSION', 1), ('SOMEWHAT', 1), ('IN', 1), ('AIR', 1), ('flying', 2), ('ship', 1), ('Professor', 1), ('Lucifer', 1), ('sang', 2), ('through', 1), ('skies', 1), ('like', 1), ('silver', 1), ('arrow', 1), ('bleak', 2), ('white', 3), ('steel', 1), ('gleaming', 1), ('blue', 1), ('emptiness', 1), ('evening', 2), ('far', 2), ('above', 2), ('expression', 1), ('men', 2), ('be', 2), ('stars', 1), ('professor', 1), ('himself', 1), ('invented', 2), ('machine', 1), ('also', 1), ('everything', 1), ('King', 2), ('James', 2), ('Bible', 2), ('Old', 1), ('Testament', 1), ('First', 1), ('Moses', 1), ('Called', 1), ('Genesis', 1), ('1', 6), ('created', 1), ('heaven', 1), ('2', 1), ('And', 11), ('without', 2), ('form', 1), ('void', 1), ('darkness', 3), ('upon', 3), ('face', 2), ('deep', 1), ('Spirit', 1), ('moved', 1), ('waters', 1), ('3', 1), ('said', 3), ('Let', 1), ('light', 5), ('4', 1), ('saw', 2), ('good', 1), ('divided', 1), ('5', 1), ('called', 2), ('Day', 1), ('he', 5), ('Night', 1), ('morning', 1), ('were', 4), ('day', 2), ('Who', 1), ('Was', 1), ('Thursday', 1), ('1908', 1), ('To', 1), ('Edmund', 1), ('Clerihew', 1), ('Bentley', 1), ('cloud', 3), ('mind', 1), ('wailing', 1), ('went', 1), ('weather', 1), ('Yea', 1), ('sick', 1), ('soul', 2), ('when', 2), ('we', 2), ('boys', 1), ('together', 1), ('Science', 1), ('announced', 1), ('nonentity', 1), ('art', 3), ('admired', 1), ('decay', 1), ('old', 4), ('ended', 1), ('you', 8), ('gay', 2), ('Round', 1), ('antic', 1), ('order', 1), ('their', 2), ('crippled', 1), ('vices', 1), ('came', 1), ('--', 3), ('Lust', 1), ('lost', 2), ('its', 2), ('laughter', 1), ('fear', 1), ('shame', 1), ('Like', 1), ('lock', 1), ('Whistler', 1), ('lit', 1), ('aimless', 1), ('gloom', 1), ('Men', 1), ('showed', 1), ('own', 1), ('feather', 1), ('proudly', 1), ('plume', 1), ('Life', 1), ('fly', 1), ('faded', 1), ('drone', 1), ('stung', 1), ('indeed', 2), ('young', 1), ('Poems', 1), ('William', 2), ('Blake', 1), ('1789', 1), ('SONGS', 2), ('OF', 3), ('INNOCENCE', 2), ('AND', 1), ('EXPERIENCE', 1), ('BOOK', 2), ('THEL', 1), ('INTRODUCTION', 1), ('Piping', 2), ('down', 2), ('valleys', 1), ('wild', 1), ('songs', 3), ('pleasant', 1), ('glee', 1), ('On', 1), ('child', 2), ('laughing', 1), ('me', 2), ('\"', 4), ('Pipe', 1), ('about', 1), ('Lamb', 1), ('!\"', 1), ('So', 4), ('piped', 2), ('merry', 1), ('cheer', 2), ('Piper', 2), ('pipe', 3), ('again', 2), (';\"', 1), ('wept', 2), ('hear', 3), ('Drop', 1), (':!\"', 1), ('same', 1), ('While', 1), ('joy', 2), ('write', 2), ('book', 1), ('may', 4), ('read', 1), ('.\"', 1), ('vanish', 1), ('d', 4), ('sight', 1), ('pluck', 1), ('hollow', 1), ('reed', 1), ('made', 1), ('rural', 1), ('pen', 1), ('stain', 1), ('water', 1), ('clear', 1), ('wrote', 1), ('Every', 1), ('Tragedie', 1), ('Julius', 1), ('Caesar', 1), ('Shakespeare', 1), ('1599', 1), ('Actus', 1), ('Primus', 1), ('Scoena', 1), ('Prima', 1), ('Enter', 1), ('Flauius', 2), ('Murellus', 1), ('certaine', 1), ('Commoners', 1), ('ouer', 1), ('Stage', 1), ('Hence', 1), ('idle', 1), ('Creatures', 1), ('get', 1), ('Is', 1), ('this', 1), ('Holiday', 1), ('?', 7), ('What', 2), ('know', 1), ('(', 4), ('Being', 1), ('Mechanicall', 1), (')', 2), ('ought', 1), ('walke', 1), ('Vpon', 1), ('labouring', 1), ('signe', 1), ('your', 1), ('Profession', 1), ('Speake', 1), ('what', 3), ('Trade', 4), ('thou', 3), ('Car', 1), ('Why', 1), ('Sir', 4), ('Carpenter', 1), ('Mur', 2), ('Where', 1), ('Leather', 1), ('Apron', 1), ('Rule', 1), ('dost', 1), ('Apparrell', 1), ('You', 1), ('sir', 1), ('are', 2), ('Cobl', 1), ('Truely', 1), ('respect', 1), ('fine', 1), ('Workman', 1), ('am', 1), ('would', 1), ('say', 1), ('Cobler', 1), ('But', 1), ('Answer', 1), ('directly', 1), ('Cob', 1), ('hope', 1), ('vse', 1), ('safe', 1), ('Conscience', 1), ('Mender', 1), ('bad', 1), ('soules', 1), ('Fla', 1), ('Leaves', 1), ('Grass', 1), ('Walt', 2), ('Whitman', 2), ('1855', 1), ('Come', 1), ('Such', 1), ('verses', 2), ('Body', 2), ('let', 1), (',)', 2), ('should', 1), ('after', 1), ('return', 1), ('Or', 1), ('hence', 1), ('other', 1), ('spheres', 1), ('There', 1), ('group', 1), ('mates', 1), ('chants', 1), ('resuming', 1), ('Tallying', 1), ('Earth', 1), ('soil', 1), ('trees', 1), ('winds', 1), ('tumultuous', 1), ('waves', 1), ('Ever', 2), ('pleas', 1), ('smile', 1), ('keep', 1), ('ever', 2), ('owning', 1), ('here', 1), ('now', 2), ('Signing', 1), ('Soul', 1), ('set', 1), ('them', 1), ('name', 1), ('INSCRIPTIONS', 1), ('}', 1), ('One', 2), ('Self', 1), ('self', 1), ('sing', 1), ('simple', 1), ('separate', 1), ('person', 1), ('Yet', 1), ('utter', 1), ('word', 2), ('Democratic', 1), ('En', 1), ('Masse', 1), ('Moby', 1), ('Dick', 1), ('Herman', 1), ('Melville', 1), ('1851', 1), ('ETYMOLOGY', 1), ('Supplied', 1), ('Late', 1), ('Consumptive', 1), ('Usher', 2), ('Grammar', 1), ('School', 1), ('pale', 1), ('threadbare', 1), ('coat', 1), ('heart', 1), ('body', 1), ('brain', 1), ('see', 1), ('him', 2), ('He', 2), ('dusting', 1), ('lexicons', 1), ('grammars', 2), ('queer', 1), ('handkerchief', 1), ('mockingly', 1), ('embellished', 1), ('flags', 1), ('known', 1), ('nations', 1), ('loved', 1), ('dust', 1), ('somehow', 1), ('mildly', 1), ('reminded', 1), ('mortality', 1)]\n"
          ]
        }
      ],
      "source": [
        "#Provide here few comment lines that describe your map-reduce procedure\n",
        "\n",
        "\n",
        "def mapper_inv_index(input):\n",
        "    res = []\n",
        "    for book in input:\n",
        "        book_name = book[0].split(\".\")[0]\n",
        "        words = book[1].split(\" \")\n",
        "        for word in words:\n",
        "            res.append((word,book_name))\n",
        "    return res\n",
        "\n",
        "def shuffler_inv_index(input):\n",
        "    dict = defaultdict(list)\n",
        "    for k, v in input:\n",
        "        dict[k].append(v)\n",
        "    return dict\n",
        "\n",
        "def reducer_inv_index(dict):\n",
        "    res = []\n",
        "    for k in dict.keys():\n",
        "        res.append((k,len(dict[k])))\n",
        "    return res\n",
        "\n",
        "print(reducer_inv_index(shuffler_inv_index(mapper_inv_index(list(readData('books.json'))))))"
      ]
    },
    {
      "cell_type": "markdown",
      "metadata": {
        "id": "4Isj-A4ySju_"
      },
      "source": [
        "Discuss what can be improved in the algorithm you provided and check which operations can be nice that a framework provides for you."
      ]
    },
    {
      "cell_type": "markdown",
      "metadata": {
        "id": "tpR4onNaLdmj"
      },
      "source": [
        "## <strong> Exercise 4 </strong>\n",
        "### Matrix Multiplication : the most challenging exercise of lab 1\n",
        "\n",
        "#### The input\n",
        "<p>\n",
        "<font size=\"3\">\n",
        "We want to define the MapReduce procedure to obtain the matrix $A \\times B$. Here you are not suppose to write code but just to think about the representation of the two matrix and to define the general description of the two procedures.\n",
        "</font>\n",
        "</p>\n",
        "\n",
        "<p>\n",
        "<font size=\"3\">\n",
        "We have as input:\n",
        "<ul>\n",
        "<li> $A$: an $n \\times m$ matrix\n",
        "<li> $B$: an $m \\times p$ matrix.\n",
        "</ul>\n",
        "The procedure returns the matrix obtained by multiplying the first and the second matrix.\n",
        "The multiplication can only be computed if the number of columns of $A$ equals the number of rows of $B$.\n",
        "</font>\n",
        "    \n",
        "</p>\n",
        "\n",
        "\n",
        "<p>\n",
        "Consider the following A matrix:\n",
        "<p>\n",
        "<center>\n",
        "  $A= \\begin{bmatrix}\n",
        "    1 & 2 & 4   \\\\\n",
        "    4 & 5 & 6\n",
        "\\end{bmatrix}$\n",
        "</center>\n",
        "</p>\n",
        "\n",
        "<p>\n",
        "Then consider the following B matrix:\n",
        "<p>\n",
        "<center>\n",
        "  $B= \\begin{bmatrix}\n",
        "    a & b    \\\\\n",
        "    c & d   \\\\\n",
        "    e & f\n",
        "\\end{bmatrix}$\n",
        "</center>\n",
        "</p>"
      ]
    },
    {
      "cell_type": "markdown",
      "metadata": {
        "id": "IVrc3WeeSjvA"
      },
      "source": [
        "### The matrix representation\n",
        "<p>\n",
        "<font size=\"3\">\n",
        "Since we are in a MapReduce context can represent these two matrix as a set of key-value pairs, where\n",
        "<ul>\n",
        "<li> the key is the coordinate <code>(row identifier, column identifier)</code> of an element</li>\n",
        "<li> and the value is the <code>element</code> itself.</li>\n",
        "</ul>\n",
        "\n",
        "Remember that in a program you manipulate data and you are free to chose how to represent data. The matrix representation is the starting point for defining your matrix representation in the following part of the exercise.\n",
        "</font>\n",
        "</p>\n",
        "\n",
        "<p>\n",
        "<font size=\"3\">\n",
        "For the matrix A we will have: <font size=\"4\"><code>( (0, 0), 1 ), ( (0, 1), 2 ), ( (0, 2), 4 ), ( (1, 0), 4 ), ( (1, 1), 5 ), ( (1, 2), 6 )</code></font>\n",
        "    \n",
        "For the matrix B we will have: <font size=\"4\"><code>( (0, 0), a ), ( (0, 1), b ), ( (1, 0), c ), ( (1, 1), d ), ( (2, 0), e ), ( (2, 1), f )</code></font>\n",
        "\n",
        "</font>\n",
        "</p>\n",
        "\n",
        "<hr>\n",
        "\n"
      ]
    },
    {
      "cell_type": "markdown",
      "metadata": {
        "id": "rKxijDgIA6jH"
      },
      "source": [
        "### How each element of the C matrix is calculated\n",
        "\n",
        "<p>\n",
        "<font size=\"3\">\n",
        "The result of the matrix multiplication will be a matrix $C = A \\times B$ is a $n \\times p$ matrix, where each element $c_{i, k}$ is computed as\n",
        "follows:\n",
        "<center>\n",
        "  $c_{i, k} = \\sum\\limits_{j=0}^{m-1} a_{i, j} \\cdot b_{j, k} \\quad\\quad (1)$\n",
        "</center>\n",
        "</font>\n",
        "</p>\n",
        "\n",
        "<p>\n",
        "<center>\n",
        "  $C= \\begin{bmatrix}\n",
        "    1a + 2c + 4e & 1b + 2d + 4f   \\\\\n",
        "    4a + 5c + 6e & 4b + 5d + 6f   \\\\\n",
        "\\end{bmatrix}$\n",
        "</center>\n",
        "</p>\n",
        "\n",
        "\n",
        "\n",
        "<p>\n",
        "<font size=\"3\">\n",
        "\n",
        "As you can see, for a given $(i, k)$, the element of $A$ that is in the j-th column is multiplied by the value of $B$ that is in the j-th row, for any column $j$.\n",
        "   \n",
        "    \n",
        "\n",
        "    \n",
        "    \n",
        "For example the element <font size=\"4\"><code>C(0,0) = A(0,0) B(0,0) + A(0,1) B(1,0) + A(0,2) B(2,0)</code></font> where $j = 0, 1, 2$ respectively\n",
        "</font>\n",
        "</p>\n"
      ]
    },
    {
      "cell_type": "markdown",
      "metadata": {
        "id": "UoEHiehY5f7N"
      },
      "source": [
        "### Changing again the representation of A and B\n",
        "\n",
        "<p>\n",
        "<font size=\"3\">\n",
        "Therefore, we can change the representation of $A$ and $B$ so that their elements are indexed by using $j$ as the key. The $j$ will be used to correctly group the elements to run the map and reduce functions.\n",
        "\n",
        "<br>\n",
        "\n",
        "<font size=\"3\">    \n",
        "Remember that the element <font size=\"5\"><code> C(0,0) </code></font> is computed according to $j = 0$, $ j = 1 $, $j = 2$, $k = 0$, and $i = 0$ .\n",
        "</font>\n",
        "</font>\n",
        "</p>\n",
        "\n",
        "<p>\n",
        "<font size=\"3\">\n",
        "More specifically, we can represent the matrix $A$ as follows:\n",
        "<center>    \n",
        "    $(j, (0, i, a_{i, j})) \\quad 0 \\leq i \\leq n-1 \\quad 0 \\leq j \\leq m-1  \\quad\\quad (2)$\n",
        "</center>\n",
        "\n",
        "\n",
        "Since we must still be able to identify to which input matrix each value belongs to, we must add a marker in the representation. In this example we choose the value $0$ in the triple $(0, i, a_{i, j})$ meaning that the element $a_{i, j}$ comes from the matrix $A$.\n",
        "    \n",
        "Notice that in this example we can think that $(j, (0, i, a_{i, j}))$ is a key-value pair where the key is $j$ and the value is $(0, i, a_{i, j})$\n",
        "</font>\n",
        "</p>\n",
        "\n",
        "<p>\n",
        "<font size=\"3\">\n",
        "For the matrix A we will then have: <font size=\"4\"><code>( 0, (0, 0, 1 )), ( 1, (0, 0, 2 )), ( 2, (0, 0, 4 )), ( 0, (0, 1, 4 )), ( 1, (0, 1, 5 ), ( 2, (0, 1, 6 ))</code></font>\n",
        "</font>\n",
        "</p>\n",
        "\n",
        "<p>\n",
        "<font size=\"3\">\n",
        "Similarly, we can represent the matrix $B$ as follows:\n",
        "<center>    \n",
        "    $(j, (1, k, b_{j, k})) \\quad 0 \\leq j \\leq m-1 \\quad 0 \\leq k \\leq p-1 \\quad\\quad (3) $\n",
        "</center>    \n",
        "even in this case the value $1$ in the triple $(1, k, b_{j, k})$ means that the element $b_{j, k}$ comes from the matrix $B$.\n",
        "</font>\n",
        "</p>\n",
        "\n",
        "<p>\n",
        "<font size=\"3\">\n",
        "For the matrix B we will then have: <font size=\"4\"><code>( 0, (1, 0, a )), ( 0, (1, 1, b )), ( 1, (1, 0, c )), ( 1, (1, 1, d )), ( 2, (1, 0, e ), ( 2, (1, 1, f ))</code></font>\n",
        "</font>\n",
        "</p>\n",
        "\n"
      ]
    },
    {
      "cell_type": "markdown",
      "metadata": {
        "id": "nvtiq2xwGmzz"
      },
      "source": [
        "## Grouping according to <code>j</code>\n",
        "\n",
        "\n",
        "<p>\n",
        "<font size=\"3\">\n",
        "Now we can group the values obtained above by their key $j$.\n",
        "    \n",
        "We will have:\n",
        "<ol>\n",
        "    <li> <code>( 0, (0, 0, 1 )), ( 0, (0, 1, 4 )), ( 0, (1, 0, a )), ( 0, (1, 1, b ))</code></li>\n",
        "    <li> <code>( 1, (0, 0, 2 )), ( 1, (0, 1, 5 )), ( 1, (1, 0, c )), ( 1, (1, 1, d ))</code></li>\n",
        "    <li> <code>( 2, (0, 0, 4 )), ( 2, (0, 1, 6 )), ( 2, (1, 0, e )), ( 2, (1, 1, f ))</code></li>\n",
        "</ol>\n",
        "</font>\n",
        "</p>\n",
        "\n",
        "<p>\n",
        "<font size=\"3\">\n",
        "As we have seen each element can be seen as a key-value pair, where the key is the index $j$ and the value is a triple corresponding to the elements of matrix $A$ in the $j-$th column  and the elements of matrix $B$  in the $j-$row, as follows:\n",
        "<p>\n",
        "<font size=\"3\">\n",
        "<center>\n",
        "$(0, i, a_{i, j})\\ 0 \\leq i \\leq n-1 \\quad (1, k, b_{j, k})\\ 0 \\leq k \\leq p-1$\n",
        "</center>\n",
        "</p>\n",
        "<p>\n",
        "<font size=\"3\">\n",
        "Remember that all triples corresponding to matrix $A$ have 0 as their first value, while those corresponding to matrix $B$ have 1.\n",
        "</p>\n",
        "<p>\n",
        "From Equation (1), you can see that the product $a_{i, j} \\cdot b_{j, k}$ contributes to the value $c_{i, k}$, for $0 \\leq i \\leq n-1$ and $0 \\leq k \\leq p-1$.\n",
        "Therefore, given the triple, we associate each value $a_{i, j} \\cdot b_{j, k}$  with the pair $(i, k)$.\n",
        "</p>\n",
        "<p>\n",
        "Each element is a key-value pair, where the key is $(i, k)$ and the value is $a_{i, j} \\cdot b_{j, k}$.\n",
        "</p>\n",
        "    \n",
        "    \n",
        "<p>\n",
        "<font size=\"3\">\n",
        "\n",
        "We will have:\n",
        "<font size=\"3\">\n",
        "\n",
        "<ol>    \n",
        "    <li> <code>((0,0), (1a)), ((0,1), (1b)), ((1,0), (4a)), ((1,1), (4b))</code></li>\n",
        "    <li> <code>((0,0), (2c)), ((0,1), (2d)), ((1,0), (5c)), ((1,1), (5d))</code></li>\n",
        "    <li> <code>((0,0), (4e)), ((0,1), (6f)), ((1,0), (6e)), ((1,1), (6f))</code></li>\n",
        "\n",
        "</ol>\n",
        "</font>\n",
        "</p>\n",
        "    \n"
      ]
    },
    {
      "cell_type": "markdown",
      "metadata": {
        "id": "oa2TsNaKLCqT"
      },
      "source": [
        "## Re-distributing and sum-up\n",
        "\n",
        "<p>\n",
        "<font size=\"3\">\n",
        "\n",
        "Now we can group the elements, where each element is a pair $((i, k), a_{i, j} \\cdot b_{j, k})$, $0 \\leq i \\leq n-1$ and $0 \\leq k \\leq p-1$.  \n",
        "\n",
        "<font size=\"3\">\n",
        "\n",
        "<ol>\n",
        "    <li> <code>((0,0), (1a)), ((0,0), (2c)), ((0,0), (4e)) </code></li>\n",
        "    <li> <code>((0,1), (1b)), ((0,1), (2d)), ((0,1), (6f)) </code></li>\n",
        "    <li> <code>((1,0), (4a)), ((1,0), (5c)), ((1,0), (6e)) </code></li>\n",
        "    <li> <code>((1,1), (4b)), ((1,1), (5d)), ((1,1), (6f)) </code></li>\n",
        "</ol>\n",
        "</font>  \n",
        "</p>\n",
        "\n",
        "\n",
        "\n",
        "\n",
        "\n",
        "<p>\n",
        "<font size=\"3\">\n",
        "From Equation (1), we can see that each $c_{i, k}$ is obtained by summing up the products $a_{i, j} \\cdot b_{j, k}$, $0 \\leq j \\leq m-1$.\n",
        "<p>\n",
        "Therefore, in order to obtain the matrix $C = A \\times B$, the only thing that we need to do is to sum all\n",
        "values $a_{i, j} \\cdot b_{j, k}$ associated with the same key $(i, k)$.\n",
        "</p>\n",
        "</font>\n",
        "</p>\n",
        "\n",
        "<p>\n",
        "<center>\n",
        "  $C= \\begin{bmatrix}\n",
        "    1a + 2c + 4e & 1b + 2d + 4f   \\\\\n",
        "    4a + 5c + 6e & 4b + 5d + 6f   \\\\\n",
        "\\end{bmatrix}$\n",
        "</center>\n",
        "</p>\n"
      ]
    },
    {
      "cell_type": "markdown",
      "metadata": {
        "id": "XzH2g8qafmym"
      },
      "source": [
        "### <strong>Questions</strong>\n",
        "####Given the provided algorithm write here a description of a MapReduce procedure implementing the matrix product.\n",
        "\n",
        "#### Detail the MapReduce steps\n",
        "\n",
        "#### How many MapReduce rounds do you need?\n",
        "\n",
        "\n",
        "---\n",
        "\n",
        "\n"
      ]
    },
    {
      "cell_type": "code",
      "execution_count": null,
      "metadata": {
        "id": "gp6dKw6EfktL"
      },
      "outputs": [],
      "source": [
        "#Provide here the python code of the MapReduce procedure you just described.\n"
      ]
    }
  ],
  "metadata": {
    "anaconda-cloud": {},
    "colab": {
      "provenance": []
    },
    "kernelspec": {
      "display_name": "Python 3.8.5 ('base')",
      "language": "python",
      "name": "python3"
    },
    "language_info": {
      "codemirror_mode": {
        "name": "ipython",
        "version": 3
      },
      "file_extension": ".py",
      "mimetype": "text/x-python",
      "name": "python",
      "nbconvert_exporter": "python",
      "pygments_lexer": "ipython3",
      "version": "3.8.5"
    },
    "name": "BE4-Spark.ipynb",
    "vscode": {
      "interpreter": {
        "hash": "fd75362e27048f1ead3b65beb4812b1da3d387150557ce53b099093c32022a5e"
      }
    }
  },
  "nbformat": 4,
  "nbformat_minor": 0
}
